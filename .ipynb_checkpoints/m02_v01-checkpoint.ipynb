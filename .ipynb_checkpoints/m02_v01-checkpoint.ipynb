{
 "cells": [
  {
   "cell_type": "markdown",
   "id": "97f91680",
   "metadata": {},
   "source": [
    "# Imports"
   ]
  },
  {
   "cell_type": "code",
   "execution_count": 24,
   "id": "2138c6c1",
   "metadata": {
    "ExecuteTime": {
     "end_time": "2022-02-04T12:43:45.561987Z",
     "start_time": "2022-02-04T12:43:45.558320Z"
    }
   },
   "outputs": [],
   "source": [
    "import pandas as pd\n",
    "import inflection\n",
    "import math"
   ]
  },
  {
   "cell_type": "markdown",
   "id": "63ff0e1b",
   "metadata": {},
   "source": [
    "## Helper functions"
   ]
  },
  {
   "cell_type": "markdown",
   "id": "a7f9f47c",
   "metadata": {},
   "source": [
    "## Loading data"
   ]
  },
  {
   "cell_type": "code",
   "execution_count": 10,
   "id": "f1cfae2c",
   "metadata": {
    "ExecuteTime": {
     "end_time": "2022-02-04T12:07:43.912718Z",
     "start_time": "2022-02-04T12:07:43.222126Z"
    }
   },
   "outputs": [],
   "source": [
    "df_sales_raw = pd.read_csv('data/train.csv', low_memory = False)\n",
    "df_store_raw = pd.read_csv('data/store.csv', low_memory = False)\n",
    "\n",
    "# merge\n",
    "df_raw = pd.merge( df_sales_raw, df_store_raw, how='left', on='Store')"
   ]
  },
  {
   "cell_type": "code",
   "execution_count": 11,
   "id": "6530d9b6",
   "metadata": {
    "ExecuteTime": {
     "end_time": "2022-02-04T12:07:46.041139Z",
     "start_time": "2022-02-04T12:07:45.831211Z"
    }
   },
   "outputs": [
    {
     "data": {
      "text/html": [
       "<div>\n",
       "<style scoped>\n",
       "    .dataframe tbody tr th:only-of-type {\n",
       "        vertical-align: middle;\n",
       "    }\n",
       "\n",
       "    .dataframe tbody tr th {\n",
       "        vertical-align: top;\n",
       "    }\n",
       "\n",
       "    .dataframe thead th {\n",
       "        text-align: right;\n",
       "    }\n",
       "</style>\n",
       "<table border=\"1\" class=\"dataframe\">\n",
       "  <thead>\n",
       "    <tr style=\"text-align: right;\">\n",
       "      <th></th>\n",
       "      <th>Store</th>\n",
       "      <th>DayOfWeek</th>\n",
       "      <th>Date</th>\n",
       "      <th>Sales</th>\n",
       "      <th>Customers</th>\n",
       "      <th>Open</th>\n",
       "      <th>Promo</th>\n",
       "      <th>StateHoliday</th>\n",
       "      <th>SchoolHoliday</th>\n",
       "      <th>StoreType</th>\n",
       "      <th>Assortment</th>\n",
       "      <th>CompetitionDistance</th>\n",
       "      <th>CompetitionOpenSinceMonth</th>\n",
       "      <th>CompetitionOpenSinceYear</th>\n",
       "      <th>Promo2</th>\n",
       "      <th>Promo2SinceWeek</th>\n",
       "      <th>Promo2SinceYear</th>\n",
       "      <th>PromoInterval</th>\n",
       "    </tr>\n",
       "  </thead>\n",
       "  <tbody>\n",
       "    <tr>\n",
       "      <th>300359</th>\n",
       "      <td>474</td>\n",
       "      <td>5</td>\n",
       "      <td>2014-10-24</td>\n",
       "      <td>8594</td>\n",
       "      <td>843</td>\n",
       "      <td>1</td>\n",
       "      <td>1</td>\n",
       "      <td>0</td>\n",
       "      <td>0</td>\n",
       "      <td>c</td>\n",
       "      <td>a</td>\n",
       "      <td>14810.0</td>\n",
       "      <td>NaN</td>\n",
       "      <td>NaN</td>\n",
       "      <td>1</td>\n",
       "      <td>14.0</td>\n",
       "      <td>2011.0</td>\n",
       "      <td>Mar,Jun,Sept,Dec</td>\n",
       "    </tr>\n",
       "  </tbody>\n",
       "</table>\n",
       "</div>"
      ],
      "text/plain": [
       "        Store  DayOfWeek        Date  Sales  Customers  Open  Promo  \\\n",
       "300359    474          5  2014-10-24   8594        843     1      1   \n",
       "\n",
       "       StateHoliday  SchoolHoliday StoreType Assortment  CompetitionDistance  \\\n",
       "300359            0              0         c          a              14810.0   \n",
       "\n",
       "        CompetitionOpenSinceMonth  CompetitionOpenSinceYear  Promo2  \\\n",
       "300359                        NaN                       NaN       1   \n",
       "\n",
       "        Promo2SinceWeek  Promo2SinceYear     PromoInterval  \n",
       "300359             14.0           2011.0  Mar,Jun,Sept,Dec  "
      ]
     },
     "execution_count": 11,
     "metadata": {},
     "output_type": "execute_result"
    }
   ],
   "source": [
    "df_raw.sample()"
   ]
  },
  {
   "cell_type": "markdown",
   "id": "d2aee8c0",
   "metadata": {},
   "source": [
    "# Descrição Dos Dados"
   ]
  },
  {
   "cell_type": "markdown",
   "id": "9c48df6d",
   "metadata": {},
   "source": [
    "## Rename Columns"
   ]
  },
  {
   "cell_type": "code",
   "execution_count": 13,
   "id": "eff82bb5",
   "metadata": {
    "ExecuteTime": {
     "end_time": "2022-02-04T12:18:12.297302Z",
     "start_time": "2022-02-04T12:18:12.175064Z"
    }
   },
   "outputs": [],
   "source": [
    "df1 = df_raw.copy()"
   ]
  },
  {
   "cell_type": "code",
   "execution_count": 14,
   "id": "3ad103d0",
   "metadata": {
    "ExecuteTime": {
     "end_time": "2022-02-04T12:18:18.913394Z",
     "start_time": "2022-02-04T12:18:18.903056Z"
    }
   },
   "outputs": [
    {
     "data": {
      "text/plain": [
       "Index(['Store', 'DayOfWeek', 'Date', 'Sales', 'Customers', 'Open', 'Promo',\n",
       "       'StateHoliday', 'SchoolHoliday', 'StoreType', 'Assortment',\n",
       "       'CompetitionDistance', 'CompetitionOpenSinceMonth',\n",
       "       'CompetitionOpenSinceYear', 'Promo2', 'Promo2SinceWeek',\n",
       "       'Promo2SinceYear', 'PromoInterval'],\n",
       "      dtype='object')"
      ]
     },
     "execution_count": 14,
     "metadata": {},
     "output_type": "execute_result"
    }
   ],
   "source": [
    "df1.columns"
   ]
  },
  {
   "cell_type": "code",
   "execution_count": 19,
   "id": "0b4a98df",
   "metadata": {
    "ExecuteTime": {
     "end_time": "2022-02-04T12:33:19.527310Z",
     "start_time": "2022-02-04T12:33:19.517377Z"
    }
   },
   "outputs": [],
   "source": [
    "cols_old = ['Store','DayOfWeek','Date','Sales','Customers', 'Open','Promo','StateHoliday','SchoolHoliday','StoreType','Assortment','CompetitionDistance','CompetitionOpenSinceMonth','CompetitionOpenSinceYear','Promo2','Promo2SinceWeek','Promo2SinceYear','PromoInterval']\n",
    "\n",
    "snakecase = lambda x: inflection.underscore( x )\n",
    "\n",
    "cols_new = list( map( snakecase, cols_old) )\n",
    "\n",
    "# Rename\n",
    "df1.columns = cols_new"
   ]
  },
  {
   "cell_type": "markdown",
   "id": "a79054cc",
   "metadata": {},
   "source": [
    "## Data Dimension"
   ]
  },
  {
   "cell_type": "code",
   "execution_count": 20,
   "id": "3f51893f",
   "metadata": {
    "ExecuteTime": {
     "end_time": "2022-02-04T12:34:40.871857Z",
     "start_time": "2022-02-04T12:34:40.865456Z"
    }
   },
   "outputs": [
    {
     "name": "stdout",
     "output_type": "stream",
     "text": [
      "Number of Rows: 1017209\n",
      "Number of Cols: 18\n"
     ]
    }
   ],
   "source": [
    "print( 'Number of Rows: {}'.format( df1.shape[0] ) )\n",
    "print( 'Number of Cols: {}'.format( df1.shape[1] ) )"
   ]
  },
  {
   "cell_type": "markdown",
   "id": "36a82ebe",
   "metadata": {
    "ExecuteTime": {
     "end_time": "2022-02-04T12:00:40.426822Z",
     "start_time": "2022-02-04T12:00:40.423116Z"
    }
   },
   "source": [
    "## Data Types"
   ]
  },
  {
   "cell_type": "code",
   "execution_count": 22,
   "id": "d0d472b3",
   "metadata": {
    "ExecuteTime": {
     "end_time": "2022-02-04T12:36:01.082578Z",
     "start_time": "2022-02-04T12:36:00.967787Z"
    }
   },
   "outputs": [
    {
     "data": {
      "text/plain": [
       "store                                    int64\n",
       "day_of_week                              int64\n",
       "date                            datetime64[ns]\n",
       "sales                                    int64\n",
       "customers                                int64\n",
       "open                                     int64\n",
       "promo                                    int64\n",
       "state_holiday                           object\n",
       "school_holiday                           int64\n",
       "store_type                              object\n",
       "assortment                              object\n",
       "competition_distance                   float64\n",
       "competition_open_since_month           float64\n",
       "competition_open_since_year            float64\n",
       "promo2                                   int64\n",
       "promo2_since_week                      float64\n",
       "promo2_since_year                      float64\n",
       "promo_interval                          object\n",
       "dtype: object"
      ]
     },
     "execution_count": 22,
     "metadata": {},
     "output_type": "execute_result"
    }
   ],
   "source": [
    "df1['date'] = pd.to_datetime( df1['date'] )\n",
    "\n",
    "df1.dtypes"
   ]
  },
  {
   "cell_type": "markdown",
   "id": "e128e5bd",
   "metadata": {
    "ExecuteTime": {
     "end_time": "2022-02-04T12:00:41.608436Z",
     "start_time": "2022-02-04T12:00:41.597271Z"
    }
   },
   "source": [
    "## Check NA"
   ]
  },
  {
   "cell_type": "code",
   "execution_count": 23,
   "id": "cc7d1649",
   "metadata": {
    "ExecuteTime": {
     "end_time": "2022-02-04T12:36:34.298097Z",
     "start_time": "2022-02-04T12:36:33.772635Z"
    }
   },
   "outputs": [
    {
     "data": {
      "text/plain": [
       "store                                0\n",
       "day_of_week                          0\n",
       "date                                 0\n",
       "sales                                0\n",
       "customers                            0\n",
       "open                                 0\n",
       "promo                                0\n",
       "state_holiday                        0\n",
       "school_holiday                       0\n",
       "store_type                           0\n",
       "assortment                           0\n",
       "competition_distance              2642\n",
       "competition_open_since_month    323348\n",
       "competition_open_since_year     323348\n",
       "promo2                               0\n",
       "promo2_since_week               508031\n",
       "promo2_since_year               508031\n",
       "promo_interval                  508031\n",
       "dtype: int64"
      ]
     },
     "execution_count": 23,
     "metadata": {},
     "output_type": "execute_result"
    }
   ],
   "source": [
    "df1.isna().sum()"
   ]
  },
  {
   "cell_type": "markdown",
   "id": "4c848a58",
   "metadata": {
    "ExecuteTime": {
     "end_time": "2022-02-04T12:00:43.214634Z",
     "start_time": "2022-02-04T12:00:43.210777Z"
    }
   },
   "source": [
    "## Fillout NA"
   ]
  },
  {
   "cell_type": "code",
   "execution_count": 25,
   "id": "bc1caef3",
   "metadata": {
    "ExecuteTime": {
     "end_time": "2022-02-04T12:44:10.084362Z",
     "start_time": "2022-02-04T12:44:10.060642Z"
    }
   },
   "outputs": [
    {
     "data": {
      "text/plain": [
       "75860.0"
      ]
     },
     "execution_count": 25,
     "metadata": {},
     "output_type": "execute_result"
    }
   ],
   "source": [
    "df1['competition_distance'].max()"
   ]
  },
  {
   "cell_type": "code",
   "execution_count": null,
   "id": "6fb94a0a",
   "metadata": {},
   "outputs": [],
   "source": [
    "# competition_distance\n",
    "df1['competition_distance'] = df1['competition_distance'].apply( lambda x: 200000 if math.isnan( x ) else x )\n",
    "\n",
    "# competition_open_since_month\n",
    "df1['competition_open_since_month'] = df1.apply(x['date'].month if math.isnan( x['competition_open_since_month'] ) else x['competition_open_since_month'])\n",
    "\n",
    "# competition_open_since_year\n",
    "df1['competition_open_since_year'] = df1.apply(x['date'].year if math.isnan( x['competition_open_since_year'] ) else x['competition_open_since_year'])\n",
    "\n",
    "# promo2_since_week\n",
    "df1['promo2_since_week'] = df1.apply(x['date'].week if math.isnan( x['promo2_since_week'] ) else x['promo2_since_week'])\n",
    "\n",
    "# promo2_since_year\n",
    "df1['promo2_since_year'] = df1.apply(x['date'].year if math.isnan( x['promo2_since_year'] ) else x['promo2_since_year'])\n",
    "\n",
    "# promo_interval\n"
   ]
  },
  {
   "cell_type": "markdown",
   "id": "829fd118",
   "metadata": {
    "ExecuteTime": {
     "end_time": "2022-02-04T12:00:44.401185Z",
     "start_time": "2022-02-04T12:00:44.388860Z"
    }
   },
   "source": [
    "##"
   ]
  },
  {
   "cell_type": "code",
   "execution_count": null,
   "id": "2df0ecb3",
   "metadata": {},
   "outputs": [],
   "source": []
  }
 ],
 "metadata": {
  "hide_input": false,
  "kernelspec": {
   "display_name": "Python 3 (ipykernel)",
   "language": "python",
   "name": "python3"
  },
  "language_info": {
   "codemirror_mode": {
    "name": "ipython",
    "version": 3
   },
   "file_extension": ".py",
   "mimetype": "text/x-python",
   "name": "python",
   "nbconvert_exporter": "python",
   "pygments_lexer": "ipython3",
   "version": "3.8.0"
  },
  "toc": {
   "base_numbering": 1,
   "nav_menu": {},
   "number_sections": true,
   "sideBar": true,
   "skip_h1_title": false,
   "title_cell": "Table of Contents",
   "title_sidebar": "Contents",
   "toc_cell": false,
   "toc_position": {},
   "toc_section_display": true,
   "toc_window_display": false
  },
  "varInspector": {
   "cols": {
    "lenName": 16,
    "lenType": 16,
    "lenVar": 40
   },
   "kernels_config": {
    "python": {
     "delete_cmd_postfix": "",
     "delete_cmd_prefix": "del ",
     "library": "var_list.py",
     "varRefreshCmd": "print(var_dic_list())"
    },
    "r": {
     "delete_cmd_postfix": ") ",
     "delete_cmd_prefix": "rm(",
     "library": "var_list.r",
     "varRefreshCmd": "cat(var_dic_list()) "
    }
   },
   "types_to_exclude": [
    "module",
    "function",
    "builtin_function_or_method",
    "instance",
    "_Feature"
   ],
   "window_display": false
  }
 },
 "nbformat": 4,
 "nbformat_minor": 5
}
