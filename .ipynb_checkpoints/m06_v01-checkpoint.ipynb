{
 "cells": [
  {
   "cell_type": "markdown",
   "id": "880636f4",
   "metadata": {},
   "source": [
    "# Imports"
   ]
  },
  {
   "cell_type": "code",
   "execution_count": 1,
   "id": "b6d5f362",
   "metadata": {
    "ExecuteTime": {
     "end_time": "2022-02-08T01:09:18.338580Z",
     "start_time": "2022-02-08T01:09:15.306332Z"
    }
   },
   "outputs": [],
   "source": [
    "import numpy as np\n",
    "import pandas as pd\n",
    "import seaborn as sns\n",
    "import inflection\n",
    "import math\n",
    "import datetime\n",
    "\n",
    "import xgboost as xgb\n",
    "\n",
    "\n",
    "from matplotlib import pyplot as plt\n",
    "from matplotlib.gridspec import GridSpec\n",
    "from scipy import stats as ss\n",
    "from IPython.display import Image\n",
    "from IPython.core.display import HTML\n",
    "from boruta import BorutaPy\n",
    "\n",
    "\n",
    "from sklearn.ensemble import RandomForestRegressor\n",
    "from sklearn.linear_model import LinearRegression, Lasso\n",
    "from sklearn.preprocessing import RobustScaler, MinMaxScaler, LabelEncoder\n",
    "from sklearn.metrics import mean_absolute_error, mean_squared_error"
   ]
  },
  {
   "cell_type": "markdown",
   "id": "6b3c7106",
   "metadata": {},
   "source": [
    "## Helper functions"
   ]
  },
  {
   "cell_type": "code",
   "execution_count": 2,
   "id": "e4cca5d7",
   "metadata": {
    "ExecuteTime": {
     "end_time": "2022-02-08T01:09:18.348195Z",
     "start_time": "2022-02-08T01:09:18.340851Z"
    }
   },
   "outputs": [],
   "source": [
    "def cross_validation( x_training, kfold, model_name, model, verbose=False ):\n",
    "\n",
    "    mae_list = []\n",
    "    mape_list = []\n",
    "    rmse_list = []\n",
    "\n",
    "    for k in reversed( range(1, kfold+1 ) ):\n",
    "        if verbose:\n",
    "            print( '\\nKFold Number: {}'.format( k ))\n",
    "        # start and end date for validation\n",
    "        validation_start_date = x_training['date'].max() - datetime.timedelta( days=k*6*7 )\n",
    "        validation_end_date = x_training['date'].max() - datetime.timedelta( days=(k-1)*6*7 )\n",
    "\n",
    "        # filtering dataset\n",
    "        training = x_training[x_training['date'] < validation_start_date ]\n",
    "        validation = x_training[(x_training['date'] >= validation_start_date) & (x_training['date'] <= validation_end_date)]\n",
    "\n",
    "        # training and validation dataset\n",
    "        # training\n",
    "        xtraining = training.drop( ['date', 'sales'], axis=1)\n",
    "        ytraining = training['sales']\n",
    "\n",
    "        # validation\n",
    "        xvalidation = validation.drop( ['date', 'sales'], axis=1)\n",
    "        yvalidation = validation['sales']\n",
    "\n",
    "        # model\n",
    "        m = model.fit( xtraining, ytraining )\n",
    "\n",
    "        # prediction\n",
    "        yhat = m.predict( xvalidation)\n",
    "\n",
    "        # performance\n",
    "        m_result = ml_error( 'Linear Regression', np.expm1( yvalidation), np.expm1( yhat) )\n",
    "        \n",
    "        # store performance of each kfold iteration\n",
    "        mae_list.append( m_result['MAE'])\n",
    "        mape_list.append( m_result['MAPE'])\n",
    "        rmse_list.append( m_result['RMSE'])\n",
    "\n",
    "    return pd.DataFrame( {'Model Name': model_name,\n",
    "                          'MAE CV': np.round( np.mean( mae_list ), 2).astype(str) + '+/-' + np.round( np.std( mae_list ), 2).astype(str),\n",
    "                          'MAPE CV': np.round( np.mean( mape_list ), 2).astype(str) + '+/-' + np.round( np.std( mape_list ), 2).astype(str),\n",
    "                          'RMSE CV': np.round( np.mean( mae_list ), 2).astype(str) + '+/-' + np.round( np.std( rmse_list ), 2).astype(str)}, index=[0])\n",
    "\n",
    "def mean_absolute_percentage_error( y, yhat ):\n",
    "    return np.mean( np.abs( ( y - yhat ) / y ) )\n",
    "\n",
    "\n",
    "def ml_error( model_name, y, yhat ):\n",
    "    mae = mean_absolute_error( y, yhat )\n",
    "    mape = mean_absolute_percentage_error( y, yhat )\n",
    "    rmse = np.sqrt( mean_squared_error( y, yhat) )\n",
    "    \n",
    "    return pd.DataFrame( {'Model Name': model_name,\n",
    "                          'MAE': mae,\n",
    "                          'MAPE': mape,\n",
    "                          'RMSE': rmse}, index=[0])\n",
    "\n",
    "def cramer_v( x, y ):\n",
    "    cm = pd.crosstab( x, y ).values\n",
    "    n = cm.sum()\n",
    "    r, k = cm.shape\n",
    "    \n",
    "    chi2 = ss.chi2_contingency( cm )[0]\n",
    "    chi2corr = max( 0, chi2 - (k-1)*(r-1)/(n-1) )\n",
    "\n",
    "    kcorr = k - (k-1)**2/(n-1)\n",
    "    rcorr = r - (r-1)**2/(n-1)\n",
    "    \n",
    "    return np.sqrt( (chi2corr/n) / ( min( kcorr-1, rcorr-1 ) ) )\n",
    "\n",
    "# def jupyter_settings():\n",
    "#     %matplotlib inline\n",
    "#     %pylab inline\n",
    "#     plt.style.use( 'bmh' )\n",
    "#     plt.rcParams['figure.figsize'] = [25, 12]\n",
    "#     plt.rcParams['font.size'] = 24\n",
    "    \n",
    "#     display( HTML( '<style>.container {width: 100% !important; }</style>') )\n",
    "#     pd.options.display.max_columns = None\n",
    "#     pd.options.display.max_rows = None\n",
    "#     pd.set_option( 'display.expand_frame_repr', False)"
   ]
  },
  {
   "cell_type": "code",
   "execution_count": 3,
   "id": "82eb60d0",
   "metadata": {
    "ExecuteTime": {
     "end_time": "2022-02-08T01:09:18.359001Z",
     "start_time": "2022-02-08T01:09:18.350035Z"
    }
   },
   "outputs": [],
   "source": [
    "# jupyter_settings()"
   ]
  },
  {
   "cell_type": "markdown",
   "id": "90928fdb",
   "metadata": {
    "heading_collapsed": true
   },
   "source": [
    "## Loading data"
   ]
  },
  {
   "cell_type": "code",
   "execution_count": 4,
   "id": "1b247cf7",
   "metadata": {
    "ExecuteTime": {
     "end_time": "2022-02-08T01:09:19.140718Z",
     "start_time": "2022-02-08T01:09:18.361302Z"
    },
    "hidden": true
   },
   "outputs": [],
   "source": [
    "df_sales_raw = pd.read_csv('data/train.csv', low_memory = False)\n",
    "df_store_raw = pd.read_csv('data/store.csv', low_memory = False)\n",
    "\n",
    "# merge\n",
    "df_raw = pd.merge( df_sales_raw, df_store_raw, how='left', on='Store')"
   ]
  },
  {
   "cell_type": "code",
   "execution_count": 5,
   "id": "44a23aaa",
   "metadata": {
    "ExecuteTime": {
     "end_time": "2022-02-08T01:09:19.324357Z",
     "start_time": "2022-02-08T01:09:19.142686Z"
    },
    "hidden": true
   },
   "outputs": [
    {
     "data": {
      "text/html": [
       "<div>\n",
       "<style scoped>\n",
       "    .dataframe tbody tr th:only-of-type {\n",
       "        vertical-align: middle;\n",
       "    }\n",
       "\n",
       "    .dataframe tbody tr th {\n",
       "        vertical-align: top;\n",
       "    }\n",
       "\n",
       "    .dataframe thead th {\n",
       "        text-align: right;\n",
       "    }\n",
       "</style>\n",
       "<table border=\"1\" class=\"dataframe\">\n",
       "  <thead>\n",
       "    <tr style=\"text-align: right;\">\n",
       "      <th></th>\n",
       "      <th>Store</th>\n",
       "      <th>DayOfWeek</th>\n",
       "      <th>Date</th>\n",
       "      <th>Sales</th>\n",
       "      <th>Customers</th>\n",
       "      <th>Open</th>\n",
       "      <th>Promo</th>\n",
       "      <th>StateHoliday</th>\n",
       "      <th>SchoolHoliday</th>\n",
       "      <th>StoreType</th>\n",
       "      <th>Assortment</th>\n",
       "      <th>CompetitionDistance</th>\n",
       "      <th>CompetitionOpenSinceMonth</th>\n",
       "      <th>CompetitionOpenSinceYear</th>\n",
       "      <th>Promo2</th>\n",
       "      <th>Promo2SinceWeek</th>\n",
       "      <th>Promo2SinceYear</th>\n",
       "      <th>PromoInterval</th>\n",
       "    </tr>\n",
       "  </thead>\n",
       "  <tbody>\n",
       "    <tr>\n",
       "      <th>88662</th>\n",
       "      <td>578</td>\n",
       "      <td>3</td>\n",
       "      <td>2015-05-13</td>\n",
       "      <td>9662</td>\n",
       "      <td>941</td>\n",
       "      <td>1</td>\n",
       "      <td>0</td>\n",
       "      <td>0</td>\n",
       "      <td>0</td>\n",
       "      <td>d</td>\n",
       "      <td>a</td>\n",
       "      <td>12700.0</td>\n",
       "      <td>4.0</td>\n",
       "      <td>2013.0</td>\n",
       "      <td>0</td>\n",
       "      <td>NaN</td>\n",
       "      <td>NaN</td>\n",
       "      <td>NaN</td>\n",
       "    </tr>\n",
       "  </tbody>\n",
       "</table>\n",
       "</div>"
      ],
      "text/plain": [
       "       Store  DayOfWeek        Date  Sales  Customers  Open  Promo  \\\n",
       "88662    578          3  2015-05-13   9662        941     1      0   \n",
       "\n",
       "      StateHoliday  SchoolHoliday StoreType Assortment  CompetitionDistance  \\\n",
       "88662            0              0         d          a              12700.0   \n",
       "\n",
       "       CompetitionOpenSinceMonth  CompetitionOpenSinceYear  Promo2  \\\n",
       "88662                        4.0                    2013.0       0   \n",
       "\n",
       "       Promo2SinceWeek  Promo2SinceYear PromoInterval  \n",
       "88662              NaN              NaN           NaN  "
      ]
     },
     "execution_count": 5,
     "metadata": {},
     "output_type": "execute_result"
    }
   ],
   "source": [
    "df_raw.sample()"
   ]
  },
  {
   "cell_type": "markdown",
   "id": "8f4ab3bb",
   "metadata": {
    "heading_collapsed": true
   },
   "source": [
    "## Rename Columns"
   ]
  },
  {
   "cell_type": "code",
   "execution_count": 6,
   "id": "ee5dd243",
   "metadata": {
    "ExecuteTime": {
     "end_time": "2022-02-08T01:09:19.396539Z",
     "start_time": "2022-02-08T01:09:19.326400Z"
    },
    "hidden": true
   },
   "outputs": [],
   "source": [
    "df1 = df_raw.copy()"
   ]
  },
  {
   "cell_type": "code",
   "execution_count": 7,
   "id": "4365ae8d",
   "metadata": {
    "ExecuteTime": {
     "end_time": "2022-02-08T01:09:19.404544Z",
     "start_time": "2022-02-08T01:09:19.399592Z"
    },
    "hidden": true
   },
   "outputs": [
    {
     "data": {
      "text/plain": [
       "Index(['Store', 'DayOfWeek', 'Date', 'Sales', 'Customers', 'Open', 'Promo',\n",
       "       'StateHoliday', 'SchoolHoliday', 'StoreType', 'Assortment',\n",
       "       'CompetitionDistance', 'CompetitionOpenSinceMonth',\n",
       "       'CompetitionOpenSinceYear', 'Promo2', 'Promo2SinceWeek',\n",
       "       'Promo2SinceYear', 'PromoInterval'],\n",
       "      dtype='object')"
      ]
     },
     "execution_count": 7,
     "metadata": {},
     "output_type": "execute_result"
    }
   ],
   "source": [
    "df1.columns"
   ]
  },
  {
   "cell_type": "code",
   "execution_count": 8,
   "id": "d38b7f45",
   "metadata": {
    "ExecuteTime": {
     "end_time": "2022-02-08T01:09:19.410838Z",
     "start_time": "2022-02-08T01:09:19.406544Z"
    },
    "hidden": true
   },
   "outputs": [],
   "source": [
    "cols_old = ['Store','DayOfWeek','Date','Sales','Customers', 'Open','Promo','StateHoliday','SchoolHoliday','StoreType','Assortment','CompetitionDistance','CompetitionOpenSinceMonth','CompetitionOpenSinceYear','Promo2','Promo2SinceWeek','Promo2SinceYear','PromoInterval']\n",
    "\n",
    "snakecase = lambda x: inflection.underscore( x )\n",
    "\n",
    "cols_new = list( map( snakecase, cols_old) )\n",
    "\n",
    "# Rename\n",
    "df1.columns = cols_new"
   ]
  },
  {
   "cell_type": "markdown",
   "id": "da06aaf0",
   "metadata": {
    "heading_collapsed": true
   },
   "source": [
    "# Descrição Dos Dados"
   ]
  },
  {
   "cell_type": "markdown",
   "id": "9c8e36eb",
   "metadata": {
    "hidden": true
   },
   "source": [
    "## Data Dimension"
   ]
  },
  {
   "cell_type": "code",
   "execution_count": 9,
   "id": "4a20e95a",
   "metadata": {
    "ExecuteTime": {
     "end_time": "2022-02-08T01:09:19.418948Z",
     "start_time": "2022-02-08T01:09:19.413587Z"
    },
    "hidden": true
   },
   "outputs": [
    {
     "name": "stdout",
     "output_type": "stream",
     "text": [
      "Number of Rows: 1017209\n",
      "Number of Cols: 18\n"
     ]
    }
   ],
   "source": [
    "print( 'Number of Rows: {}'.format( df1.shape[0] ) )\n",
    "print( 'Number of Cols: {}'.format( df1.shape[1] ) )"
   ]
  },
  {
   "cell_type": "markdown",
   "id": "6a14e12d",
   "metadata": {
    "ExecuteTime": {
     "end_time": "2022-02-04T12:00:40.426822Z",
     "start_time": "2022-02-04T12:00:40.423116Z"
    },
    "hidden": true
   },
   "source": [
    "## Data Types"
   ]
  },
  {
   "cell_type": "code",
   "execution_count": 10,
   "id": "09363084",
   "metadata": {
    "ExecuteTime": {
     "end_time": "2022-02-08T01:09:19.523738Z",
     "start_time": "2022-02-08T01:09:19.422539Z"
    },
    "hidden": true
   },
   "outputs": [
    {
     "data": {
      "text/plain": [
       "store                                    int64\n",
       "day_of_week                              int64\n",
       "date                            datetime64[ns]\n",
       "sales                                    int64\n",
       "customers                                int64\n",
       "open                                     int64\n",
       "promo                                    int64\n",
       "state_holiday                           object\n",
       "school_holiday                           int64\n",
       "store_type                              object\n",
       "assortment                              object\n",
       "competition_distance                   float64\n",
       "competition_open_since_month           float64\n",
       "competition_open_since_year            float64\n",
       "promo2                                   int64\n",
       "promo2_since_week                      float64\n",
       "promo2_since_year                      float64\n",
       "promo_interval                          object\n",
       "dtype: object"
      ]
     },
     "execution_count": 10,
     "metadata": {},
     "output_type": "execute_result"
    }
   ],
   "source": [
    "df1['date'] = pd.to_datetime( df1['date'] )\n",
    "\n",
    "df1.dtypes"
   ]
  },
  {
   "cell_type": "markdown",
   "id": "c4d38023",
   "metadata": {
    "ExecuteTime": {
     "end_time": "2022-02-04T12:00:41.608436Z",
     "start_time": "2022-02-04T12:00:41.597271Z"
    },
    "hidden": true
   },
   "source": [
    "## Check NA"
   ]
  },
  {
   "cell_type": "code",
   "execution_count": 11,
   "id": "3318c5f9",
   "metadata": {
    "ExecuteTime": {
     "end_time": "2022-02-08T01:09:19.995964Z",
     "start_time": "2022-02-08T01:09:19.525748Z"
    },
    "hidden": true
   },
   "outputs": [
    {
     "data": {
      "text/plain": [
       "store                                0\n",
       "day_of_week                          0\n",
       "date                                 0\n",
       "sales                                0\n",
       "customers                            0\n",
       "open                                 0\n",
       "promo                                0\n",
       "state_holiday                        0\n",
       "school_holiday                       0\n",
       "store_type                           0\n",
       "assortment                           0\n",
       "competition_distance              2642\n",
       "competition_open_since_month    323348\n",
       "competition_open_since_year     323348\n",
       "promo2                               0\n",
       "promo2_since_week               508031\n",
       "promo2_since_year               508031\n",
       "promo_interval                  508031\n",
       "dtype: int64"
      ]
     },
     "execution_count": 11,
     "metadata": {},
     "output_type": "execute_result"
    }
   ],
   "source": [
    "df1.isna().sum()"
   ]
  },
  {
   "cell_type": "markdown",
   "id": "429b4ad5",
   "metadata": {
    "ExecuteTime": {
     "end_time": "2022-02-04T12:00:43.214634Z",
     "start_time": "2022-02-04T12:00:43.210777Z"
    },
    "hidden": true
   },
   "source": [
    "## Fillout NA"
   ]
  },
  {
   "cell_type": "code",
   "execution_count": 12,
   "id": "50dc8460",
   "metadata": {
    "ExecuteTime": {
     "end_time": "2022-02-08T01:09:20.004704Z",
     "start_time": "2022-02-08T01:09:19.997405Z"
    },
    "hidden": true
   },
   "outputs": [
    {
     "data": {
      "text/plain": [
       "75860.0"
      ]
     },
     "execution_count": 12,
     "metadata": {},
     "output_type": "execute_result"
    }
   ],
   "source": [
    "df1['competition_distance'].max()"
   ]
  },
  {
   "cell_type": "code",
   "execution_count": 13,
   "id": "ebe97db6",
   "metadata": {
    "ExecuteTime": {
     "end_time": "2022-02-08T01:09:20.011429Z",
     "start_time": "2022-02-08T01:09:20.006221Z"
    },
    "hidden": true
   },
   "outputs": [
    {
     "data": {
      "text/plain": [
       "0           9.0\n",
       "1          11.0\n",
       "2          12.0\n",
       "3           9.0\n",
       "4           4.0\n",
       "           ... \n",
       "1017204     6.0\n",
       "1017205     4.0\n",
       "1017206     NaN\n",
       "1017207     NaN\n",
       "1017208     NaN\n",
       "Name: competition_open_since_month, Length: 1017209, dtype: float64"
      ]
     },
     "execution_count": 13,
     "metadata": {},
     "output_type": "execute_result"
    }
   ],
   "source": [
    "df1['competition_open_since_month']"
   ]
  },
  {
   "cell_type": "code",
   "execution_count": 14,
   "id": "0621e136",
   "metadata": {
    "ExecuteTime": {
     "end_time": "2022-02-08T01:10:19.735749Z",
     "start_time": "2022-02-08T01:09:20.013111Z"
    },
    "hidden": true
   },
   "outputs": [],
   "source": [
    "# competition_distance\n",
    "df1['competition_distance'] = df1['competition_distance'].apply( lambda x: 200000 if math.isnan( x ) else x )\n",
    "\n",
    "# competition_open_since_month\n",
    "df1['competition_open_since_month'] = df1.apply(lambda x: x['date'].month if math.isnan( x['competition_open_since_month'] ) else x['competition_open_since_month'], axis=1 )\n",
    "\n",
    "# competition_open_since_year\n",
    "df1['competition_open_since_year'] = df1.apply(lambda x: x['date'].year if math.isnan( x['competition_open_since_year'] ) else x['competition_open_since_year'], axis=1 )\n",
    "\n",
    "# promo2_since_week\n",
    "df1['promo2_since_week'] = df1.apply(lambda x: x['date'].week if math.isnan( x['promo2_since_week'] ) else x['promo2_since_week'], axis=1 )\n",
    "\n",
    "# promo2_since_year\n",
    "df1['promo2_since_year'] = df1.apply(lambda x: x['date'].year if math.isnan( x['promo2_since_year'] ) else x['promo2_since_year'], axis=1 )"
   ]
  },
  {
   "cell_type": "code",
   "execution_count": 15,
   "id": "ffa29c40",
   "metadata": {
    "ExecuteTime": {
     "end_time": "2022-02-08T01:10:33.137023Z",
     "start_time": "2022-02-08T01:10:19.737678Z"
    },
    "hidden": true
   },
   "outputs": [],
   "source": [
    "# promo_interval\n",
    "month_map = {1: 'Jan', 2: 'Fev', 3: 'Mar', 4: 'Apr', 5: 'May', 6: 'Jun', 7: 'Jul', 8: 'Aug', 9: 'Sept', 10: 'Oct', 11: 'Nov', 12: 'Dec'}\n",
    "\n",
    "df1['promo_interval'].fillna(0, inplace=True)\n",
    "\n",
    "df1['month_map'] = df1['date'].dt.month.map( month_map )\n",
    "\n",
    "df1['is_promo'] = df1[['promo_interval', 'month_map']].apply( lambda x: 0 if x['promo_interval'] == 0 else 1 if x['month_map'] in x['promo_interval'].split(',') else 0, axis=1 )"
   ]
  },
  {
   "cell_type": "code",
   "execution_count": 16,
   "id": "47ae800b",
   "metadata": {
    "ExecuteTime": {
     "end_time": "2022-02-08T01:10:33.212102Z",
     "start_time": "2022-02-08T01:10:33.138622Z"
    },
    "hidden": true
   },
   "outputs": [
    {
     "data": {
      "text/html": [
       "<div>\n",
       "<style scoped>\n",
       "    .dataframe tbody tr th:only-of-type {\n",
       "        vertical-align: middle;\n",
       "    }\n",
       "\n",
       "    .dataframe tbody tr th {\n",
       "        vertical-align: top;\n",
       "    }\n",
       "\n",
       "    .dataframe thead th {\n",
       "        text-align: right;\n",
       "    }\n",
       "</style>\n",
       "<table border=\"1\" class=\"dataframe\">\n",
       "  <thead>\n",
       "    <tr style=\"text-align: right;\">\n",
       "      <th></th>\n",
       "      <th>695379</th>\n",
       "      <th>332363</th>\n",
       "      <th>186235</th>\n",
       "      <th>688703</th>\n",
       "      <th>130067</th>\n",
       "    </tr>\n",
       "  </thead>\n",
       "  <tbody>\n",
       "    <tr>\n",
       "      <th>store</th>\n",
       "      <td>405</td>\n",
       "      <td>740</td>\n",
       "      <td>31</td>\n",
       "      <td>419</td>\n",
       "      <td>728</td>\n",
       "    </tr>\n",
       "    <tr>\n",
       "      <th>day_of_week</th>\n",
       "      <td>3</td>\n",
       "      <td>6</td>\n",
       "      <td>6</td>\n",
       "      <td>2</td>\n",
       "      <td>1</td>\n",
       "    </tr>\n",
       "    <tr>\n",
       "      <th>date</th>\n",
       "      <td>2013-10-16 00:00:00</td>\n",
       "      <td>2014-09-20 00:00:00</td>\n",
       "      <td>2015-02-14 00:00:00</td>\n",
       "      <td>2013-10-22 00:00:00</td>\n",
       "      <td>2015-04-06 00:00:00</td>\n",
       "    </tr>\n",
       "    <tr>\n",
       "      <th>sales</th>\n",
       "      <td>3455</td>\n",
       "      <td>6595</td>\n",
       "      <td>5546</td>\n",
       "      <td>5027</td>\n",
       "      <td>0</td>\n",
       "    </tr>\n",
       "    <tr>\n",
       "      <th>customers</th>\n",
       "      <td>426</td>\n",
       "      <td>533</td>\n",
       "      <td>557</td>\n",
       "      <td>850</td>\n",
       "      <td>0</td>\n",
       "    </tr>\n",
       "    <tr>\n",
       "      <th>open</th>\n",
       "      <td>1</td>\n",
       "      <td>1</td>\n",
       "      <td>1</td>\n",
       "      <td>1</td>\n",
       "      <td>0</td>\n",
       "    </tr>\n",
       "    <tr>\n",
       "      <th>promo</th>\n",
       "      <td>0</td>\n",
       "      <td>0</td>\n",
       "      <td>0</td>\n",
       "      <td>1</td>\n",
       "      <td>0</td>\n",
       "    </tr>\n",
       "    <tr>\n",
       "      <th>state_holiday</th>\n",
       "      <td>0</td>\n",
       "      <td>0</td>\n",
       "      <td>0</td>\n",
       "      <td>0</td>\n",
       "      <td>b</td>\n",
       "    </tr>\n",
       "    <tr>\n",
       "      <th>school_holiday</th>\n",
       "      <td>0</td>\n",
       "      <td>0</td>\n",
       "      <td>0</td>\n",
       "      <td>0</td>\n",
       "      <td>1</td>\n",
       "    </tr>\n",
       "    <tr>\n",
       "      <th>store_type</th>\n",
       "      <td>a</td>\n",
       "      <td>d</td>\n",
       "      <td>d</td>\n",
       "      <td>c</td>\n",
       "      <td>d</td>\n",
       "    </tr>\n",
       "    <tr>\n",
       "      <th>assortment</th>\n",
       "      <td>a</td>\n",
       "      <td>a</td>\n",
       "      <td>c</td>\n",
       "      <td>a</td>\n",
       "      <td>a</td>\n",
       "    </tr>\n",
       "    <tr>\n",
       "      <th>competition_distance</th>\n",
       "      <td>1080.0</td>\n",
       "      <td>6400.0</td>\n",
       "      <td>9800.0</td>\n",
       "      <td>1620.0</td>\n",
       "      <td>13990.0</td>\n",
       "    </tr>\n",
       "    <tr>\n",
       "      <th>competition_open_since_month</th>\n",
       "      <td>4.0</td>\n",
       "      <td>3.0</td>\n",
       "      <td>7.0</td>\n",
       "      <td>9.0</td>\n",
       "      <td>4.0</td>\n",
       "    </tr>\n",
       "    <tr>\n",
       "      <th>competition_open_since_year</th>\n",
       "      <td>2008.0</td>\n",
       "      <td>2014.0</td>\n",
       "      <td>2012.0</td>\n",
       "      <td>2009.0</td>\n",
       "      <td>2015.0</td>\n",
       "    </tr>\n",
       "    <tr>\n",
       "      <th>promo2</th>\n",
       "      <td>1</td>\n",
       "      <td>0</td>\n",
       "      <td>0</td>\n",
       "      <td>0</td>\n",
       "      <td>1</td>\n",
       "    </tr>\n",
       "    <tr>\n",
       "      <th>promo2_since_week</th>\n",
       "      <td>14.0</td>\n",
       "      <td>38.0</td>\n",
       "      <td>7.0</td>\n",
       "      <td>43.0</td>\n",
       "      <td>14.0</td>\n",
       "    </tr>\n",
       "    <tr>\n",
       "      <th>promo2_since_year</th>\n",
       "      <td>2011.0</td>\n",
       "      <td>2014.0</td>\n",
       "      <td>2015.0</td>\n",
       "      <td>2013.0</td>\n",
       "      <td>2011.0</td>\n",
       "    </tr>\n",
       "    <tr>\n",
       "      <th>promo_interval</th>\n",
       "      <td>Jan,Apr,Jul,Oct</td>\n",
       "      <td>0</td>\n",
       "      <td>0</td>\n",
       "      <td>0</td>\n",
       "      <td>Jan,Apr,Jul,Oct</td>\n",
       "    </tr>\n",
       "    <tr>\n",
       "      <th>month_map</th>\n",
       "      <td>Oct</td>\n",
       "      <td>Sept</td>\n",
       "      <td>Fev</td>\n",
       "      <td>Oct</td>\n",
       "      <td>Apr</td>\n",
       "    </tr>\n",
       "    <tr>\n",
       "      <th>is_promo</th>\n",
       "      <td>1</td>\n",
       "      <td>0</td>\n",
       "      <td>0</td>\n",
       "      <td>0</td>\n",
       "      <td>1</td>\n",
       "    </tr>\n",
       "  </tbody>\n",
       "</table>\n",
       "</div>"
      ],
      "text/plain": [
       "                                           695379               332363  \\\n",
       "store                                         405                  740   \n",
       "day_of_week                                     3                    6   \n",
       "date                          2013-10-16 00:00:00  2014-09-20 00:00:00   \n",
       "sales                                        3455                 6595   \n",
       "customers                                     426                  533   \n",
       "open                                            1                    1   \n",
       "promo                                           0                    0   \n",
       "state_holiday                                   0                    0   \n",
       "school_holiday                                  0                    0   \n",
       "store_type                                      a                    d   \n",
       "assortment                                      a                    a   \n",
       "competition_distance                       1080.0               6400.0   \n",
       "competition_open_since_month                  4.0                  3.0   \n",
       "competition_open_since_year                2008.0               2014.0   \n",
       "promo2                                          1                    0   \n",
       "promo2_since_week                            14.0                 38.0   \n",
       "promo2_since_year                          2011.0               2014.0   \n",
       "promo_interval                    Jan,Apr,Jul,Oct                    0   \n",
       "month_map                                     Oct                 Sept   \n",
       "is_promo                                        1                    0   \n",
       "\n",
       "                                           186235               688703  \\\n",
       "store                                          31                  419   \n",
       "day_of_week                                     6                    2   \n",
       "date                          2015-02-14 00:00:00  2013-10-22 00:00:00   \n",
       "sales                                        5546                 5027   \n",
       "customers                                     557                  850   \n",
       "open                                            1                    1   \n",
       "promo                                           0                    1   \n",
       "state_holiday                                   0                    0   \n",
       "school_holiday                                  0                    0   \n",
       "store_type                                      d                    c   \n",
       "assortment                                      c                    a   \n",
       "competition_distance                       9800.0               1620.0   \n",
       "competition_open_since_month                  7.0                  9.0   \n",
       "competition_open_since_year                2012.0               2009.0   \n",
       "promo2                                          0                    0   \n",
       "promo2_since_week                             7.0                 43.0   \n",
       "promo2_since_year                          2015.0               2013.0   \n",
       "promo_interval                                  0                    0   \n",
       "month_map                                     Fev                  Oct   \n",
       "is_promo                                        0                    0   \n",
       "\n",
       "                                           130067  \n",
       "store                                         728  \n",
       "day_of_week                                     1  \n",
       "date                          2015-04-06 00:00:00  \n",
       "sales                                           0  \n",
       "customers                                       0  \n",
       "open                                            0  \n",
       "promo                                           0  \n",
       "state_holiday                                   b  \n",
       "school_holiday                                  1  \n",
       "store_type                                      d  \n",
       "assortment                                      a  \n",
       "competition_distance                      13990.0  \n",
       "competition_open_since_month                  4.0  \n",
       "competition_open_since_year                2015.0  \n",
       "promo2                                          1  \n",
       "promo2_since_week                            14.0  \n",
       "promo2_since_year                          2011.0  \n",
       "promo_interval                    Jan,Apr,Jul,Oct  \n",
       "month_map                                     Apr  \n",
       "is_promo                                        1  "
      ]
     },
     "execution_count": 16,
     "metadata": {},
     "output_type": "execute_result"
    }
   ],
   "source": [
    "df1.sample(5).T"
   ]
  },
  {
   "cell_type": "code",
   "execution_count": 17,
   "id": "f6aa8fbe",
   "metadata": {
    "ExecuteTime": {
     "end_time": "2022-02-08T01:10:33.779013Z",
     "start_time": "2022-02-08T01:10:33.213358Z"
    },
    "hidden": true
   },
   "outputs": [
    {
     "data": {
      "text/plain": [
       "store                           0\n",
       "day_of_week                     0\n",
       "date                            0\n",
       "sales                           0\n",
       "customers                       0\n",
       "open                            0\n",
       "promo                           0\n",
       "state_holiday                   0\n",
       "school_holiday                  0\n",
       "store_type                      0\n",
       "assortment                      0\n",
       "competition_distance            0\n",
       "competition_open_since_month    0\n",
       "competition_open_since_year     0\n",
       "promo2                          0\n",
       "promo2_since_week               0\n",
       "promo2_since_year               0\n",
       "promo_interval                  0\n",
       "month_map                       0\n",
       "is_promo                        0\n",
       "dtype: int64"
      ]
     },
     "execution_count": 17,
     "metadata": {},
     "output_type": "execute_result"
    }
   ],
   "source": [
    "df1.isna().sum()"
   ]
  },
  {
   "cell_type": "markdown",
   "id": "e0ce3978",
   "metadata": {
    "ExecuteTime": {
     "end_time": "2022-02-04T12:00:44.401185Z",
     "start_time": "2022-02-04T12:00:44.388860Z"
    },
    "hidden": true
   },
   "source": [
    "## Change Types"
   ]
  },
  {
   "cell_type": "code",
   "execution_count": 18,
   "id": "2caedf95",
   "metadata": {
    "ExecuteTime": {
     "end_time": "2022-02-08T01:10:33.807854Z",
     "start_time": "2022-02-08T01:10:33.780510Z"
    },
    "hidden": true
   },
   "outputs": [],
   "source": [
    "df1['competition_open_since_month'] = df1['competition_open_since_month'].astype( int )\n",
    "df1['competition_open_since_year'] = df1['competition_open_since_year'].astype( int )\n",
    "\n",
    "df1['promo2_since_week'] = df1['promo2_since_week'].astype( int )\n",
    "df1['promo2_since_year'] = df1['promo2_since_year'].astype( int )"
   ]
  },
  {
   "cell_type": "markdown",
   "id": "af342ec5",
   "metadata": {
    "hidden": true
   },
   "source": [
    "## Descriptive Statistical"
   ]
  },
  {
   "cell_type": "code",
   "execution_count": 19,
   "id": "39940fe0",
   "metadata": {
    "ExecuteTime": {
     "end_time": "2022-02-08T01:10:33.812824Z",
     "start_time": "2022-02-08T01:10:33.809246Z"
    },
    "hidden": true
   },
   "outputs": [],
   "source": [
    "num_attributes = df1.select_dtypes( include=['int64', 'float64'])\n",
    "cat_attributes = df1.select_dtypes( exclude=['int64', 'float64', 'datetime64[ns]'])"
   ]
  },
  {
   "cell_type": "markdown",
   "id": "36549335",
   "metadata": {
    "hidden": true
   },
   "source": [
    "### Numerical Attributes"
   ]
  },
  {
   "cell_type": "code",
   "execution_count": 20,
   "id": "7f2cbf3e",
   "metadata": {
    "ExecuteTime": {
     "end_time": "2022-02-08T01:10:36.695420Z",
     "start_time": "2022-02-08T01:10:33.814631Z"
    },
    "hidden": true
   },
   "outputs": [
    {
     "data": {
      "text/html": [
       "<div>\n",
       "<style scoped>\n",
       "    .dataframe tbody tr th:only-of-type {\n",
       "        vertical-align: middle;\n",
       "    }\n",
       "\n",
       "    .dataframe tbody tr th {\n",
       "        vertical-align: top;\n",
       "    }\n",
       "\n",
       "    .dataframe thead th {\n",
       "        text-align: right;\n",
       "    }\n",
       "</style>\n",
       "<table border=\"1\" class=\"dataframe\">\n",
       "  <thead>\n",
       "    <tr style=\"text-align: right;\">\n",
       "      <th></th>\n",
       "      <th>attributes</th>\n",
       "      <th>min</th>\n",
       "      <th>max</th>\n",
       "      <th>range</th>\n",
       "      <th>mean</th>\n",
       "      <th>median</th>\n",
       "      <th>std</th>\n",
       "      <th>skew</th>\n",
       "      <th>kurtosis</th>\n",
       "    </tr>\n",
       "  </thead>\n",
       "  <tbody>\n",
       "    <tr>\n",
       "      <th>0</th>\n",
       "      <td>store</td>\n",
       "      <td>1.0</td>\n",
       "      <td>1115.0</td>\n",
       "      <td>1114.0</td>\n",
       "      <td>558.429727</td>\n",
       "      <td>558.0</td>\n",
       "      <td>321.908493</td>\n",
       "      <td>-0.000955</td>\n",
       "      <td>-1.200524</td>\n",
       "    </tr>\n",
       "    <tr>\n",
       "      <th>1</th>\n",
       "      <td>day_of_week</td>\n",
       "      <td>1.0</td>\n",
       "      <td>7.0</td>\n",
       "      <td>6.0</td>\n",
       "      <td>3.998341</td>\n",
       "      <td>4.0</td>\n",
       "      <td>1.997390</td>\n",
       "      <td>0.001593</td>\n",
       "      <td>-1.246873</td>\n",
       "    </tr>\n",
       "    <tr>\n",
       "      <th>2</th>\n",
       "      <td>sales</td>\n",
       "      <td>0.0</td>\n",
       "      <td>41551.0</td>\n",
       "      <td>41551.0</td>\n",
       "      <td>5773.818972</td>\n",
       "      <td>5744.0</td>\n",
       "      <td>3849.924283</td>\n",
       "      <td>0.641460</td>\n",
       "      <td>1.778375</td>\n",
       "    </tr>\n",
       "    <tr>\n",
       "      <th>3</th>\n",
       "      <td>customers</td>\n",
       "      <td>0.0</td>\n",
       "      <td>7388.0</td>\n",
       "      <td>7388.0</td>\n",
       "      <td>633.145946</td>\n",
       "      <td>609.0</td>\n",
       "      <td>464.411506</td>\n",
       "      <td>1.598650</td>\n",
       "      <td>7.091773</td>\n",
       "    </tr>\n",
       "    <tr>\n",
       "      <th>4</th>\n",
       "      <td>open</td>\n",
       "      <td>0.0</td>\n",
       "      <td>1.0</td>\n",
       "      <td>1.0</td>\n",
       "      <td>0.830107</td>\n",
       "      <td>1.0</td>\n",
       "      <td>0.375539</td>\n",
       "      <td>-1.758045</td>\n",
       "      <td>1.090723</td>\n",
       "    </tr>\n",
       "    <tr>\n",
       "      <th>5</th>\n",
       "      <td>promo</td>\n",
       "      <td>0.0</td>\n",
       "      <td>1.0</td>\n",
       "      <td>1.0</td>\n",
       "      <td>0.381515</td>\n",
       "      <td>0.0</td>\n",
       "      <td>0.485758</td>\n",
       "      <td>0.487838</td>\n",
       "      <td>-1.762018</td>\n",
       "    </tr>\n",
       "    <tr>\n",
       "      <th>6</th>\n",
       "      <td>school_holiday</td>\n",
       "      <td>0.0</td>\n",
       "      <td>1.0</td>\n",
       "      <td>1.0</td>\n",
       "      <td>0.178647</td>\n",
       "      <td>0.0</td>\n",
       "      <td>0.383056</td>\n",
       "      <td>1.677842</td>\n",
       "      <td>0.815154</td>\n",
       "    </tr>\n",
       "    <tr>\n",
       "      <th>7</th>\n",
       "      <td>competition_distance</td>\n",
       "      <td>20.0</td>\n",
       "      <td>200000.0</td>\n",
       "      <td>199980.0</td>\n",
       "      <td>5935.442677</td>\n",
       "      <td>2330.0</td>\n",
       "      <td>12547.646829</td>\n",
       "      <td>10.242344</td>\n",
       "      <td>147.789712</td>\n",
       "    </tr>\n",
       "    <tr>\n",
       "      <th>8</th>\n",
       "      <td>competition_open_since_month</td>\n",
       "      <td>1.0</td>\n",
       "      <td>12.0</td>\n",
       "      <td>11.0</td>\n",
       "      <td>6.786849</td>\n",
       "      <td>7.0</td>\n",
       "      <td>3.311085</td>\n",
       "      <td>-0.042076</td>\n",
       "      <td>-1.232607</td>\n",
       "    </tr>\n",
       "    <tr>\n",
       "      <th>9</th>\n",
       "      <td>competition_open_since_year</td>\n",
       "      <td>1900.0</td>\n",
       "      <td>2015.0</td>\n",
       "      <td>115.0</td>\n",
       "      <td>2010.324840</td>\n",
       "      <td>2012.0</td>\n",
       "      <td>5.515591</td>\n",
       "      <td>-7.235657</td>\n",
       "      <td>124.071304</td>\n",
       "    </tr>\n",
       "    <tr>\n",
       "      <th>10</th>\n",
       "      <td>promo2</td>\n",
       "      <td>0.0</td>\n",
       "      <td>1.0</td>\n",
       "      <td>1.0</td>\n",
       "      <td>0.500564</td>\n",
       "      <td>1.0</td>\n",
       "      <td>0.500000</td>\n",
       "      <td>-0.002255</td>\n",
       "      <td>-1.999999</td>\n",
       "    </tr>\n",
       "    <tr>\n",
       "      <th>11</th>\n",
       "      <td>promo2_since_week</td>\n",
       "      <td>1.0</td>\n",
       "      <td>52.0</td>\n",
       "      <td>51.0</td>\n",
       "      <td>23.619033</td>\n",
       "      <td>22.0</td>\n",
       "      <td>14.310057</td>\n",
       "      <td>0.178723</td>\n",
       "      <td>-1.184046</td>\n",
       "    </tr>\n",
       "    <tr>\n",
       "      <th>12</th>\n",
       "      <td>promo2_since_year</td>\n",
       "      <td>2009.0</td>\n",
       "      <td>2015.0</td>\n",
       "      <td>6.0</td>\n",
       "      <td>2012.793297</td>\n",
       "      <td>2013.0</td>\n",
       "      <td>1.662657</td>\n",
       "      <td>-0.784436</td>\n",
       "      <td>-0.210075</td>\n",
       "    </tr>\n",
       "    <tr>\n",
       "      <th>13</th>\n",
       "      <td>is_promo</td>\n",
       "      <td>0.0</td>\n",
       "      <td>1.0</td>\n",
       "      <td>1.0</td>\n",
       "      <td>0.161100</td>\n",
       "      <td>0.0</td>\n",
       "      <td>0.367623</td>\n",
       "      <td>1.843742</td>\n",
       "      <td>1.399388</td>\n",
       "    </tr>\n",
       "  </tbody>\n",
       "</table>\n",
       "</div>"
      ],
      "text/plain": [
       "                      attributes     min       max     range         mean  \\\n",
       "0                          store     1.0    1115.0    1114.0   558.429727   \n",
       "1                    day_of_week     1.0       7.0       6.0     3.998341   \n",
       "2                          sales     0.0   41551.0   41551.0  5773.818972   \n",
       "3                      customers     0.0    7388.0    7388.0   633.145946   \n",
       "4                           open     0.0       1.0       1.0     0.830107   \n",
       "5                          promo     0.0       1.0       1.0     0.381515   \n",
       "6                 school_holiday     0.0       1.0       1.0     0.178647   \n",
       "7           competition_distance    20.0  200000.0  199980.0  5935.442677   \n",
       "8   competition_open_since_month     1.0      12.0      11.0     6.786849   \n",
       "9    competition_open_since_year  1900.0    2015.0     115.0  2010.324840   \n",
       "10                        promo2     0.0       1.0       1.0     0.500564   \n",
       "11             promo2_since_week     1.0      52.0      51.0    23.619033   \n",
       "12             promo2_since_year  2009.0    2015.0       6.0  2012.793297   \n",
       "13                      is_promo     0.0       1.0       1.0     0.161100   \n",
       "\n",
       "    median           std       skew    kurtosis  \n",
       "0    558.0    321.908493  -0.000955   -1.200524  \n",
       "1      4.0      1.997390   0.001593   -1.246873  \n",
       "2   5744.0   3849.924283   0.641460    1.778375  \n",
       "3    609.0    464.411506   1.598650    7.091773  \n",
       "4      1.0      0.375539  -1.758045    1.090723  \n",
       "5      0.0      0.485758   0.487838   -1.762018  \n",
       "6      0.0      0.383056   1.677842    0.815154  \n",
       "7   2330.0  12547.646829  10.242344  147.789712  \n",
       "8      7.0      3.311085  -0.042076   -1.232607  \n",
       "9   2012.0      5.515591  -7.235657  124.071304  \n",
       "10     1.0      0.500000  -0.002255   -1.999999  \n",
       "11    22.0     14.310057   0.178723   -1.184046  \n",
       "12  2013.0      1.662657  -0.784436   -0.210075  \n",
       "13     0.0      0.367623   1.843742    1.399388  "
      ]
     },
     "execution_count": 20,
     "metadata": {},
     "output_type": "execute_result"
    }
   ],
   "source": [
    "# Central Tendency - mean, median\n",
    "ct1 = pd.DataFrame( num_attributes.apply( np.mean ) ).T\n",
    "ct2 = pd.DataFrame( num_attributes.apply( np.median ) ).T\n",
    "\n",
    "# Dispersion - std, min, max, range, skew, kurtosis\n",
    "d1 = pd.DataFrame( num_attributes.apply( np.std ) ).T\n",
    "d2 = pd.DataFrame( num_attributes.apply( min ) ).T\n",
    "d3 = pd.DataFrame( num_attributes.apply( max ) ).T\n",
    "d4 = pd.DataFrame( num_attributes.apply( lambda x: x.max() - x.min() ) ).T\n",
    "d5 = pd.DataFrame( num_attributes.apply( lambda x: x.skew() ) ).T\n",
    "d6 = pd.DataFrame( num_attributes.apply( lambda x: x.kurtosis() ) ).T\n",
    "\n",
    "# concatenate\n",
    "m = pd.concat( [d2, d3, d4, ct1, ct2, d1, d5, d6]).T.reset_index()\n",
    "m.columns = ['attributes', 'min', 'max', 'range', 'mean', 'median', 'std', 'skew', 'kurtosis']\n",
    "\n",
    "m"
   ]
  },
  {
   "cell_type": "code",
   "execution_count": 21,
   "id": "f365f1b8",
   "metadata": {
    "ExecuteTime": {
     "end_time": "2022-02-08T01:10:40.146382Z",
     "start_time": "2022-02-08T01:10:36.697030Z"
    },
    "hidden": true
   },
   "outputs": [
    {
     "name": "stderr",
     "output_type": "stream",
     "text": [
      "/home/lucas/.pyenv/versions/3.8.0/envs/datascienceemproducao/lib/python3.8/site-packages/seaborn/distributions.py:2619: FutureWarning: `distplot` is a deprecated function and will be removed in a future version. Please adapt your code to use either `displot` (a figure-level function with similar flexibility) or `histplot` (an axes-level function for histograms).\n",
      "  warnings.warn(msg, FutureWarning)\n"
     ]
    },
    {
     "data": {
      "text/plain": [
       "<AxesSubplot:xlabel='sales', ylabel='Density'>"
      ]
     },
     "execution_count": 21,
     "metadata": {},
     "output_type": "execute_result"
    },
    {
     "data": {
      "image/png": "[encoded data removed]",
      "text/plain": [
       "<Figure size 432x288 with 1 Axes>"
      ]
     },
     "metadata": {
      "needs_background": "light"
     },
     "output_type": "display_data"
    }
   ],
   "source": [
    "sns.distplot( df1['sales'] )"
   ]
  },
  {
   "cell_type": "markdown",
   "id": "9dd61b5a",
   "metadata": {
    "hidden": true
   },
   "source": [
    "### Categorical Attributes"
   ]
  },
  {
   "cell_type": "code",
   "execution_count": 22,
   "id": "5e8e030b",
   "metadata": {
    "ExecuteTime": {
     "end_time": "2022-02-08T01:10:40.322303Z",
     "start_time": "2022-02-08T01:10:40.147584Z"
    },
    "hidden": true
   },
   "outputs": [
    {
     "data": {
      "text/plain": [
       "state_holiday      4\n",
       "store_type         4\n",
       "assortment         3\n",
       "promo_interval     4\n",
       "month_map         12\n",
       "dtype: int64"
      ]
     },
     "execution_count": 22,
     "metadata": {},
     "output_type": "execute_result"
    }
   ],
   "source": [
    "cat_attributes.apply( lambda x: x.unique().shape[0] )"
   ]
  },
  {
   "cell_type": "code",
   "execution_count": 23,
   "id": "f0906420",
   "metadata": {
    "ExecuteTime": {
     "end_time": "2022-02-08T01:10:41.113364Z",
     "start_time": "2022-02-08T01:10:40.327594Z"
    },
    "hidden": true
   },
   "outputs": [
    {
     "data": {
      "text/plain": [
       "<AxesSubplot:xlabel='assortment', ylabel='sales'>"
      ]
     },
     "execution_count": 23,
     "metadata": {},
     "output_type": "execute_result"
    },
    {
     "data": {
      "image/png": "[encoded data removed]",
      "text/plain": [
       "<Figure size 432x288 with 3 Axes>"
      ]
     },
     "metadata": {
      "needs_background": "light"
     },
     "output_type": "display_data"
    }
   ],
   "source": [
    "aux1 = df1[(df1['state_holiday'] != '0') & (df1['sales'] > 0)]\n",
    "\n",
    "plt.subplot( 1, 3, 1)\n",
    "sns.boxplot( x='state_holiday', y='sales', data=aux1 )\n",
    "\n",
    "plt.subplot( 1, 3, 2)\n",
    "sns.boxplot( x='store_type', y='sales', data=aux1 )\n",
    "\n",
    "plt.subplot( 1, 3, 3)\n",
    "sns.boxplot( x='assortment', y='sales', data=aux1 )"
   ]
  },
  {
   "cell_type": "markdown",
   "id": "c89b431b",
   "metadata": {
    "heading_collapsed": true
   },
   "source": [
    "# Feature Engineering"
   ]
  },
  {
   "cell_type": "code",
   "execution_count": 24,
   "id": "d96cbd54",
   "metadata": {
    "ExecuteTime": {
     "end_time": "2022-02-08T01:10:41.160560Z",
     "start_time": "2022-02-08T01:10:41.115305Z"
    },
    "hidden": true
   },
   "outputs": [],
   "source": [
    "df2 = df1.copy()"
   ]
  },
  {
   "cell_type": "markdown",
   "id": "f30b7532",
   "metadata": {
    "heading_collapsed": true,
    "hidden": true
   },
   "source": [
    "## Criação das Hipoteses"
   ]
  },
  {
   "cell_type": "markdown",
   "id": "01911f6b",
   "metadata": {
    "hidden": true
   },
   "source": [
    "### Hipoteses Loja"
   ]
  },
  {
   "cell_type": "markdown",
   "id": "cf1cd049",
   "metadata": {
    "hidden": true
   },
   "source": [
    "**1.** Lojas Com maior quadro de funcionários deveriam vender mais.\n",
    "\n",
    "**2.** Lojas com maior estoque deveriam vender mais.\n",
    "\n",
    "**3.** Lojas com maior porte deveriam vender mais\n",
    "\n",
    "**4.** Lojas com menor porte deveriam vender menos\n",
    "\n",
    "**5.** Lojas com maior sortimento deveriam vender mais"
   ]
  },
  {
   "cell_type": "markdown",
   "id": "e4e42f24",
   "metadata": {
    "hidden": true
   },
   "source": [
    "### Hipoteses Produto"
   ]
  },
  {
   "cell_type": "markdown",
   "id": "4ed7e9d9",
   "metadata": {
    "hidden": true
   },
   "source": [
    "**1.** Lojas que investem mais em Marketing deveriam vender mais.\n",
    "\n",
    "**2.** Lojas que expoe mais os produtos deveriam vender mais.\n",
    "\n",
    "**3.** Lojas que tem precos menores nos produtos deveriam vender mais.\n",
    "\n",
    "**4.** Lojas que tem preços menores por mais tempo nos produtos deveriam vendem mais."
   ]
  },
  {
   "cell_type": "markdown",
   "id": "1a88f6da",
   "metadata": {
    "hidden": true
   },
   "source": [
    "### Hipoteses Tempo"
   ]
  },
  {
   "cell_type": "markdown",
   "id": "3617f325",
   "metadata": {
    "hidden": true
   },
   "source": [
    "**1.** Lojas que tem mais feriados deveriam vender menos\n",
    "\n",
    "**2.** Lojas que abrem nos primeiros 6 meses deveriam vender mais\n",
    "\n",
    "**3.** Lojas que abrem nos finais de semana deveriam vender mais"
   ]
  },
  {
   "cell_type": "markdown",
   "id": "960dd3b0",
   "metadata": {
    "hidden": true
   },
   "source": [
    "## Lista Final de Hipóteses"
   ]
  },
  {
   "cell_type": "markdown",
   "id": "b6497e13",
   "metadata": {
    "hidden": true
   },
   "source": [
    "**1.** Lojas com maior sortimento deveriam vender mais\n",
    "\n",
    "**2.** Lojas com competidores mais próximos deveriam vender menos\n",
    "\n",
    "**3.** Lojas com competidores à mais tempo deveriam vender mais"
   ]
  },
  {
   "cell_type": "markdown",
   "id": "1ab70dfe",
   "metadata": {
    "hidden": true
   },
   "source": [
    "**4.** Lojas com promoções ativas por mais tempo deveriam vender mais\n",
    "\n",
    "**5.** Lojas com mais dias de promoção deveriam vender mais\n",
    "\n",
    "**6.** Lojas com mais promoções consecutivas deveriam vender mais."
   ]
  },
  {
   "cell_type": "markdown",
   "id": "884dfd2c",
   "metadata": {
    "hidden": true
   },
   "source": [
    "**8.** Lojas abertas durante o feriado de natal deveriam vender mais\n",
    "\n",
    "**9.** Lojas deveriam vender mais ao longo dos anos.\n",
    "\n",
    "**10.** Lojas deveriam vender mais no segundo semestre do ano.\n",
    "\n",
    "**11.** Lojas deveriam vender mais depois do dia 10 de cada mês.\n",
    "\n",
    "**12.** Lojas deveriam vender menos aos finais de semana.\n",
    "\n",
    "**13.** Lojas deveriam vender menos durante os feriados escolares"
   ]
  },
  {
   "cell_type": "markdown",
   "id": "ca5d193d",
   "metadata": {
    "heading_collapsed": true,
    "hidden": true
   },
   "source": [
    "## Feature Engineering"
   ]
  },
  {
   "cell_type": "code",
   "execution_count": 25,
   "id": "61d2233e",
   "metadata": {
    "ExecuteTime": {
     "end_time": "2022-02-08T01:11:26.398055Z",
     "start_time": "2022-02-08T01:10:41.167534Z"
    },
    "hidden": true
   },
   "outputs": [
    {
     "name": "stderr",
     "output_type": "stream",
     "text": [
      "/tmp/ipykernel_296137/3147998296.py:11: FutureWarning: Series.dt.weekofyear and Series.dt.week have been deprecated. Please use Series.dt.isocalendar().week instead.\n",
      "  df2['week_of_year'] = df2['date'].dt.weekofyear\n"
     ]
    }
   ],
   "source": [
    "# year\n",
    "df2['year'] = df2['date'].dt.year\n",
    "\n",
    "# month\n",
    "df2['month'] = df2['date'].dt.month\n",
    "\n",
    "# day\n",
    "df2['day'] = df2['date'].dt.day\n",
    "\n",
    "# week of year\n",
    "df2['week_of_year'] = df2['date'].dt.weekofyear\n",
    "\n",
    "# year week\n",
    "df2['year_week'] = df2['date'].dt.strftime( '%Y-%W' )\n",
    "\n",
    "# competition since\n",
    "df2['competition_since'] = df2.apply(lambda x: datetime.datetime( year = x['competition_open_since_year'], month = x['competition_open_since_month'], day=1), axis = 1 )\n",
    "\n",
    "df2['competition_time_month'] = ( ( df2['date'] - df2['competition_since'] )/30 ).apply(lambda x: x.days ).astype( int )\n",
    "                                     \n",
    "                                     \n",
    "                                     \n",
    "# promo since\n",
    "df2['promo_since'] = df2['promo2_since_year'].astype( str ) + '-' + df2['promo2_since_week'].astype( str )\n",
    "df2['promo_since'] =  df2['promo_since'].apply( lambda x: datetime.datetime.strptime( x + '-1', '%Y-%W-%w') - datetime.timedelta( days = 7 ) )\n",
    "df2['promo_time_week'] = ( ( df2['date'] - df2['promo_since'] )/7 ).apply( lambda x: x.days ).astype( int ) \n",
    "\n",
    "# # assortment\n",
    "df2['assortment'] = df2['assortment'].apply( lambda x: 'basic' if x == 'a' else 'extra' if x == 'b' else 'extended')\n",
    "\n",
    "# state holiday\n",
    "df2['state_holiday'] = df2['state_holiday'].apply( lambda x: 'public_holiday' if x == 'a' else 'easter_holiday' if x == 'b' else 'christmas' if x == 'c' else 'regular_day' )"
   ]
  },
  {
   "cell_type": "code",
   "execution_count": 26,
   "id": "9032805a",
   "metadata": {
    "ExecuteTime": {
     "end_time": "2022-02-08T01:11:26.411577Z",
     "start_time": "2022-02-08T01:11:26.399753Z"
    },
    "hidden": true
   },
   "outputs": [
    {
     "data": {
      "text/html": [
       "<div>\n",
       "<style scoped>\n",
       "    .dataframe tbody tr th:only-of-type {\n",
       "        vertical-align: middle;\n",
       "    }\n",
       "\n",
       "    .dataframe tbody tr th {\n",
       "        vertical-align: top;\n",
       "    }\n",
       "\n",
       "    .dataframe thead th {\n",
       "        text-align: right;\n",
       "    }\n",
       "</style>\n",
       "<table border=\"1\" class=\"dataframe\">\n",
       "  <thead>\n",
       "    <tr style=\"text-align: right;\">\n",
       "      <th></th>\n",
       "      <th>0</th>\n",
       "      <th>1</th>\n",
       "      <th>2</th>\n",
       "      <th>3</th>\n",
       "      <th>4</th>\n",
       "    </tr>\n",
       "  </thead>\n",
       "  <tbody>\n",
       "    <tr>\n",
       "      <th>store</th>\n",
       "      <td>1</td>\n",
       "      <td>2</td>\n",
       "      <td>3</td>\n",
       "      <td>4</td>\n",
       "      <td>5</td>\n",
       "    </tr>\n",
       "    <tr>\n",
       "      <th>day_of_week</th>\n",
       "      <td>5</td>\n",
       "      <td>5</td>\n",
       "      <td>5</td>\n",
       "      <td>5</td>\n",
       "      <td>5</td>\n",
       "    </tr>\n",
       "    <tr>\n",
       "      <th>date</th>\n",
       "      <td>2015-07-31 00:00:00</td>\n",
       "      <td>2015-07-31 00:00:00</td>\n",
       "      <td>2015-07-31 00:00:00</td>\n",
       "      <td>2015-07-31 00:00:00</td>\n",
       "      <td>2015-07-31 00:00:00</td>\n",
       "    </tr>\n",
       "    <tr>\n",
       "      <th>sales</th>\n",
       "      <td>5263</td>\n",
       "      <td>6064</td>\n",
       "      <td>8314</td>\n",
       "      <td>13995</td>\n",
       "      <td>4822</td>\n",
       "    </tr>\n",
       "    <tr>\n",
       "      <th>customers</th>\n",
       "      <td>555</td>\n",
       "      <td>625</td>\n",
       "      <td>821</td>\n",
       "      <td>1498</td>\n",
       "      <td>559</td>\n",
       "    </tr>\n",
       "    <tr>\n",
       "      <th>open</th>\n",
       "      <td>1</td>\n",
       "      <td>1</td>\n",
       "      <td>1</td>\n",
       "      <td>1</td>\n",
       "      <td>1</td>\n",
       "    </tr>\n",
       "    <tr>\n",
       "      <th>promo</th>\n",
       "      <td>1</td>\n",
       "      <td>1</td>\n",
       "      <td>1</td>\n",
       "      <td>1</td>\n",
       "      <td>1</td>\n",
       "    </tr>\n",
       "    <tr>\n",
       "      <th>state_holiday</th>\n",
       "      <td>regular_day</td>\n",
       "      <td>regular_day</td>\n",
       "      <td>regular_day</td>\n",
       "      <td>regular_day</td>\n",
       "      <td>regular_day</td>\n",
       "    </tr>\n",
       "    <tr>\n",
       "      <th>school_holiday</th>\n",
       "      <td>1</td>\n",
       "      <td>1</td>\n",
       "      <td>1</td>\n",
       "      <td>1</td>\n",
       "      <td>1</td>\n",
       "    </tr>\n",
       "    <tr>\n",
       "      <th>store_type</th>\n",
       "      <td>c</td>\n",
       "      <td>a</td>\n",
       "      <td>a</td>\n",
       "      <td>c</td>\n",
       "      <td>a</td>\n",
       "    </tr>\n",
       "    <tr>\n",
       "      <th>assortment</th>\n",
       "      <td>basic</td>\n",
       "      <td>basic</td>\n",
       "      <td>basic</td>\n",
       "      <td>extended</td>\n",
       "      <td>basic</td>\n",
       "    </tr>\n",
       "    <tr>\n",
       "      <th>competition_distance</th>\n",
       "      <td>1270.0</td>\n",
       "      <td>570.0</td>\n",
       "      <td>14130.0</td>\n",
       "      <td>620.0</td>\n",
       "      <td>29910.0</td>\n",
       "    </tr>\n",
       "    <tr>\n",
       "      <th>competition_open_since_month</th>\n",
       "      <td>9</td>\n",
       "      <td>11</td>\n",
       "      <td>12</td>\n",
       "      <td>9</td>\n",
       "      <td>4</td>\n",
       "    </tr>\n",
       "    <tr>\n",
       "      <th>competition_open_since_year</th>\n",
       "      <td>2008</td>\n",
       "      <td>2007</td>\n",
       "      <td>2006</td>\n",
       "      <td>2009</td>\n",
       "      <td>2015</td>\n",
       "    </tr>\n",
       "    <tr>\n",
       "      <th>promo2</th>\n",
       "      <td>0</td>\n",
       "      <td>1</td>\n",
       "      <td>1</td>\n",
       "      <td>0</td>\n",
       "      <td>0</td>\n",
       "    </tr>\n",
       "    <tr>\n",
       "      <th>promo2_since_week</th>\n",
       "      <td>31</td>\n",
       "      <td>13</td>\n",
       "      <td>14</td>\n",
       "      <td>31</td>\n",
       "      <td>31</td>\n",
       "    </tr>\n",
       "    <tr>\n",
       "      <th>promo2_since_year</th>\n",
       "      <td>2015</td>\n",
       "      <td>2010</td>\n",
       "      <td>2011</td>\n",
       "      <td>2015</td>\n",
       "      <td>2015</td>\n",
       "    </tr>\n",
       "    <tr>\n",
       "      <th>promo_interval</th>\n",
       "      <td>0</td>\n",
       "      <td>Jan,Apr,Jul,Oct</td>\n",
       "      <td>Jan,Apr,Jul,Oct</td>\n",
       "      <td>0</td>\n",
       "      <td>0</td>\n",
       "    </tr>\n",
       "    <tr>\n",
       "      <th>month_map</th>\n",
       "      <td>Jul</td>\n",
       "      <td>Jul</td>\n",
       "      <td>Jul</td>\n",
       "      <td>Jul</td>\n",
       "      <td>Jul</td>\n",
       "    </tr>\n",
       "    <tr>\n",
       "      <th>is_promo</th>\n",
       "      <td>0</td>\n",
       "      <td>1</td>\n",
       "      <td>1</td>\n",
       "      <td>0</td>\n",
       "      <td>0</td>\n",
       "    </tr>\n",
       "    <tr>\n",
       "      <th>year</th>\n",
       "      <td>2015</td>\n",
       "      <td>2015</td>\n",
       "      <td>2015</td>\n",
       "      <td>2015</td>\n",
       "      <td>2015</td>\n",
       "    </tr>\n",
       "    <tr>\n",
       "      <th>month</th>\n",
       "      <td>7</td>\n",
       "      <td>7</td>\n",
       "      <td>7</td>\n",
       "      <td>7</td>\n",
       "      <td>7</td>\n",
       "    </tr>\n",
       "    <tr>\n",
       "      <th>day</th>\n",
       "      <td>31</td>\n",
       "      <td>31</td>\n",
       "      <td>31</td>\n",
       "      <td>31</td>\n",
       "      <td>31</td>\n",
       "    </tr>\n",
       "    <tr>\n",
       "      <th>week_of_year</th>\n",
       "      <td>31</td>\n",
       "      <td>31</td>\n",
       "      <td>31</td>\n",
       "      <td>31</td>\n",
       "      <td>31</td>\n",
       "    </tr>\n",
       "    <tr>\n",
       "      <th>year_week</th>\n",
       "      <td>2015-30</td>\n",
       "      <td>2015-30</td>\n",
       "      <td>2015-30</td>\n",
       "      <td>2015-30</td>\n",
       "      <td>2015-30</td>\n",
       "    </tr>\n",
       "    <tr>\n",
       "      <th>competition_since</th>\n",
       "      <td>2008-09-01 00:00:00</td>\n",
       "      <td>2007-11-01 00:00:00</td>\n",
       "      <td>2006-12-01 00:00:00</td>\n",
       "      <td>2009-09-01 00:00:00</td>\n",
       "      <td>2015-04-01 00:00:00</td>\n",
       "    </tr>\n",
       "    <tr>\n",
       "      <th>competition_time_month</th>\n",
       "      <td>84</td>\n",
       "      <td>94</td>\n",
       "      <td>105</td>\n",
       "      <td>71</td>\n",
       "      <td>4</td>\n",
       "    </tr>\n",
       "    <tr>\n",
       "      <th>promo_since</th>\n",
       "      <td>2015-07-27 00:00:00</td>\n",
       "      <td>2010-03-22 00:00:00</td>\n",
       "      <td>2011-03-28 00:00:00</td>\n",
       "      <td>2015-07-27 00:00:00</td>\n",
       "      <td>2015-07-27 00:00:00</td>\n",
       "    </tr>\n",
       "    <tr>\n",
       "      <th>promo_time_week</th>\n",
       "      <td>0</td>\n",
       "      <td>279</td>\n",
       "      <td>226</td>\n",
       "      <td>0</td>\n",
       "      <td>0</td>\n",
       "    </tr>\n",
       "  </tbody>\n",
       "</table>\n",
       "</div>"
      ],
      "text/plain": [
       "                                                0                    1  \\\n",
       "store                                           1                    2   \n",
       "day_of_week                                     5                    5   \n",
       "date                          2015-07-31 00:00:00  2015-07-31 00:00:00   \n",
       "sales                                        5263                 6064   \n",
       "customers                                     555                  625   \n",
       "open                                            1                    1   \n",
       "promo                                           1                    1   \n",
       "state_holiday                         regular_day          regular_day   \n",
       "school_holiday                                  1                    1   \n",
       "store_type                                      c                    a   \n",
       "assortment                                  basic                basic   \n",
       "competition_distance                       1270.0                570.0   \n",
       "competition_open_since_month                    9                   11   \n",
       "competition_open_since_year                  2008                 2007   \n",
       "promo2                                          0                    1   \n",
       "promo2_since_week                              31                   13   \n",
       "promo2_since_year                            2015                 2010   \n",
       "promo_interval                                  0      Jan,Apr,Jul,Oct   \n",
       "month_map                                     Jul                  Jul   \n",
       "is_promo                                        0                    1   \n",
       "year                                         2015                 2015   \n",
       "month                                           7                    7   \n",
       "day                                            31                   31   \n",
       "week_of_year                                   31                   31   \n",
       "year_week                                 2015-30              2015-30   \n",
       "competition_since             2008-09-01 00:00:00  2007-11-01 00:00:00   \n",
       "competition_time_month                         84                   94   \n",
       "promo_since                   2015-07-27 00:00:00  2010-03-22 00:00:00   \n",
       "promo_time_week                                 0                  279   \n",
       "\n",
       "                                                2                    3  \\\n",
       "store                                           3                    4   \n",
       "day_of_week                                     5                    5   \n",
       "date                          2015-07-31 00:00:00  2015-07-31 00:00:00   \n",
       "sales                                        8314                13995   \n",
       "customers                                     821                 1498   \n",
       "open                                            1                    1   \n",
       "promo                                           1                    1   \n",
       "state_holiday                         regular_day          regular_day   \n",
       "school_holiday                                  1                    1   \n",
       "store_type                                      a                    c   \n",
       "assortment                                  basic             extended   \n",
       "competition_distance                      14130.0                620.0   \n",
       "competition_open_since_month                   12                    9   \n",
       "competition_open_since_year                  2006                 2009   \n",
       "promo2                                          1                    0   \n",
       "promo2_since_week                              14                   31   \n",
       "promo2_since_year                            2011                 2015   \n",
       "promo_interval                    Jan,Apr,Jul,Oct                    0   \n",
       "month_map                                     Jul                  Jul   \n",
       "is_promo                                        1                    0   \n",
       "year                                         2015                 2015   \n",
       "month                                           7                    7   \n",
       "day                                            31                   31   \n",
       "week_of_year                                   31                   31   \n",
       "year_week                                 2015-30              2015-30   \n",
       "competition_since             2006-12-01 00:00:00  2009-09-01 00:00:00   \n",
       "competition_time_month                        105                   71   \n",
       "promo_since                   2011-03-28 00:00:00  2015-07-27 00:00:00   \n",
       "promo_time_week                               226                    0   \n",
       "\n",
       "                                                4  \n",
       "store                                           5  \n",
       "day_of_week                                     5  \n",
       "date                          2015-07-31 00:00:00  \n",
       "sales                                        4822  \n",
       "customers                                     559  \n",
       "open                                            1  \n",
       "promo                                           1  \n",
       "state_holiday                         regular_day  \n",
       "school_holiday                                  1  \n",
       "store_type                                      a  \n",
       "assortment                                  basic  \n",
       "competition_distance                      29910.0  \n",
       "competition_open_since_month                    4  \n",
       "competition_open_since_year                  2015  \n",
       "promo2                                          0  \n",
       "promo2_since_week                              31  \n",
       "promo2_since_year                            2015  \n",
       "promo_interval                                  0  \n",
       "month_map                                     Jul  \n",
       "is_promo                                        0  \n",
       "year                                         2015  \n",
       "month                                           7  \n",
       "day                                            31  \n",
       "week_of_year                                   31  \n",
       "year_week                                 2015-30  \n",
       "competition_since             2015-04-01 00:00:00  \n",
       "competition_time_month                          4  \n",
       "promo_since                   2015-07-27 00:00:00  \n",
       "promo_time_week                                 0  "
      ]
     },
     "execution_count": 26,
     "metadata": {},
     "output_type": "execute_result"
    }
   ],
   "source": [
    "df2.head().T"
   ]
  },
  {
   "cell_type": "markdown",
   "id": "ed2599eb",
   "metadata": {
    "heading_collapsed": true
   },
   "source": [
    "# Passo 03 - Filtragem de variaveis"
   ]
  },
  {
   "cell_type": "code",
   "execution_count": 27,
   "id": "08e458d0",
   "metadata": {
    "ExecuteTime": {
     "end_time": "2022-02-08T01:11:26.720547Z",
     "start_time": "2022-02-08T01:11:26.413189Z"
    },
    "hidden": true
   },
   "outputs": [],
   "source": [
    "df3 = df2.copy()"
   ]
  },
  {
   "cell_type": "code",
   "execution_count": 28,
   "id": "3e929df0",
   "metadata": {
    "ExecuteTime": {
     "end_time": "2022-02-08T01:11:26.749415Z",
     "start_time": "2022-02-08T01:11:26.723064Z"
    },
    "hidden": true
   },
   "outputs": [
    {
     "data": {
      "text/html": [
       "<div>\n",
       "<style scoped>\n",
       "    .dataframe tbody tr th:only-of-type {\n",
       "        vertical-align: middle;\n",
       "    }\n",
       "\n",
       "    .dataframe tbody tr th {\n",
       "        vertical-align: top;\n",
       "    }\n",
       "\n",
       "    .dataframe thead th {\n",
       "        text-align: right;\n",
       "    }\n",
       "</style>\n",
       "<table border=\"1\" class=\"dataframe\">\n",
       "  <thead>\n",
       "    <tr style=\"text-align: right;\">\n",
       "      <th></th>\n",
       "      <th>store</th>\n",
       "      <th>day_of_week</th>\n",
       "      <th>date</th>\n",
       "      <th>sales</th>\n",
       "      <th>customers</th>\n",
       "      <th>open</th>\n",
       "      <th>promo</th>\n",
       "      <th>state_holiday</th>\n",
       "      <th>school_holiday</th>\n",
       "      <th>store_type</th>\n",
       "      <th>...</th>\n",
       "      <th>is_promo</th>\n",
       "      <th>year</th>\n",
       "      <th>month</th>\n",
       "      <th>day</th>\n",
       "      <th>week_of_year</th>\n",
       "      <th>year_week</th>\n",
       "      <th>competition_since</th>\n",
       "      <th>competition_time_month</th>\n",
       "      <th>promo_since</th>\n",
       "      <th>promo_time_week</th>\n",
       "    </tr>\n",
       "  </thead>\n",
       "  <tbody>\n",
       "    <tr>\n",
       "      <th>0</th>\n",
       "      <td>1</td>\n",
       "      <td>5</td>\n",
       "      <td>2015-07-31</td>\n",
       "      <td>5263</td>\n",
       "      <td>555</td>\n",
       "      <td>1</td>\n",
       "      <td>1</td>\n",
       "      <td>regular_day</td>\n",
       "      <td>1</td>\n",
       "      <td>c</td>\n",
       "      <td>...</td>\n",
       "      <td>0</td>\n",
       "      <td>2015</td>\n",
       "      <td>7</td>\n",
       "      <td>31</td>\n",
       "      <td>31</td>\n",
       "      <td>2015-30</td>\n",
       "      <td>2008-09-01</td>\n",
       "      <td>84</td>\n",
       "      <td>2015-07-27</td>\n",
       "      <td>0</td>\n",
       "    </tr>\n",
       "    <tr>\n",
       "      <th>1</th>\n",
       "      <td>2</td>\n",
       "      <td>5</td>\n",
       "      <td>2015-07-31</td>\n",
       "      <td>6064</td>\n",
       "      <td>625</td>\n",
       "      <td>1</td>\n",
       "      <td>1</td>\n",
       "      <td>regular_day</td>\n",
       "      <td>1</td>\n",
       "      <td>a</td>\n",
       "      <td>...</td>\n",
       "      <td>1</td>\n",
       "      <td>2015</td>\n",
       "      <td>7</td>\n",
       "      <td>31</td>\n",
       "      <td>31</td>\n",
       "      <td>2015-30</td>\n",
       "      <td>2007-11-01</td>\n",
       "      <td>94</td>\n",
       "      <td>2010-03-22</td>\n",
       "      <td>279</td>\n",
       "    </tr>\n",
       "    <tr>\n",
       "      <th>2</th>\n",
       "      <td>3</td>\n",
       "      <td>5</td>\n",
       "      <td>2015-07-31</td>\n",
       "      <td>8314</td>\n",
       "      <td>821</td>\n",
       "      <td>1</td>\n",
       "      <td>1</td>\n",
       "      <td>regular_day</td>\n",
       "      <td>1</td>\n",
       "      <td>a</td>\n",
       "      <td>...</td>\n",
       "      <td>1</td>\n",
       "      <td>2015</td>\n",
       "      <td>7</td>\n",
       "      <td>31</td>\n",
       "      <td>31</td>\n",
       "      <td>2015-30</td>\n",
       "      <td>2006-12-01</td>\n",
       "      <td>105</td>\n",
       "      <td>2011-03-28</td>\n",
       "      <td>226</td>\n",
       "    </tr>\n",
       "    <tr>\n",
       "      <th>3</th>\n",
       "      <td>4</td>\n",
       "      <td>5</td>\n",
       "      <td>2015-07-31</td>\n",
       "      <td>13995</td>\n",
       "      <td>1498</td>\n",
       "      <td>1</td>\n",
       "      <td>1</td>\n",
       "      <td>regular_day</td>\n",
       "      <td>1</td>\n",
       "      <td>c</td>\n",
       "      <td>...</td>\n",
       "      <td>0</td>\n",
       "      <td>2015</td>\n",
       "      <td>7</td>\n",
       "      <td>31</td>\n",
       "      <td>31</td>\n",
       "      <td>2015-30</td>\n",
       "      <td>2009-09-01</td>\n",
       "      <td>71</td>\n",
       "      <td>2015-07-27</td>\n",
       "      <td>0</td>\n",
       "    </tr>\n",
       "    <tr>\n",
       "      <th>4</th>\n",
       "      <td>5</td>\n",
       "      <td>5</td>\n",
       "      <td>2015-07-31</td>\n",
       "      <td>4822</td>\n",
       "      <td>559</td>\n",
       "      <td>1</td>\n",
       "      <td>1</td>\n",
       "      <td>regular_day</td>\n",
       "      <td>1</td>\n",
       "      <td>a</td>\n",
       "      <td>...</td>\n",
       "      <td>0</td>\n",
       "      <td>2015</td>\n",
       "      <td>7</td>\n",
       "      <td>31</td>\n",
       "      <td>31</td>\n",
       "      <td>2015-30</td>\n",
       "      <td>2015-04-01</td>\n",
       "      <td>4</td>\n",
       "      <td>2015-07-27</td>\n",
       "      <td>0</td>\n",
       "    </tr>\n",
       "  </tbody>\n",
       "</table>\n",
       "<p>5 rows × 29 columns</p>\n",
       "</div>"
      ],
      "text/plain": [
       "   store  day_of_week       date  sales  customers  open  promo state_holiday  \\\n",
       "0      1            5 2015-07-31   5263        555     1      1   regular_day   \n",
       "1      2            5 2015-07-31   6064        625     1      1   regular_day   \n",
       "2      3            5 2015-07-31   8314        821     1      1   regular_day   \n",
       "3      4            5 2015-07-31  13995       1498     1      1   regular_day   \n",
       "4      5            5 2015-07-31   4822        559     1      1   regular_day   \n",
       "\n",
       "   school_holiday store_type  ... is_promo  year  month  day  week_of_year  \\\n",
       "0               1          c  ...        0  2015      7   31            31   \n",
       "1               1          a  ...        1  2015      7   31            31   \n",
       "2               1          a  ...        1  2015      7   31            31   \n",
       "3               1          c  ...        0  2015      7   31            31   \n",
       "4               1          a  ...        0  2015      7   31            31   \n",
       "\n",
       "   year_week  competition_since competition_time_month promo_since  \\\n",
       "0    2015-30         2008-09-01                     84  2015-07-27   \n",
       "1    2015-30         2007-11-01                     94  2010-03-22   \n",
       "2    2015-30         2006-12-01                    105  2011-03-28   \n",
       "3    2015-30         2009-09-01                     71  2015-07-27   \n",
       "4    2015-30         2015-04-01                      4  2015-07-27   \n",
       "\n",
       "   promo_time_week  \n",
       "0                0  \n",
       "1              279  \n",
       "2              226  \n",
       "3                0  \n",
       "4                0  \n",
       "\n",
       "[5 rows x 29 columns]"
      ]
     },
     "execution_count": 28,
     "metadata": {},
     "output_type": "execute_result"
    }
   ],
   "source": [
    "df3.head()"
   ]
  },
  {
   "cell_type": "markdown",
   "id": "dbbf2a9a",
   "metadata": {
    "hidden": true
   },
   "source": [
    "## Filtragem de linhas"
   ]
  },
  {
   "cell_type": "code",
   "execution_count": 29,
   "id": "2913f0a5",
   "metadata": {
    "ExecuteTime": {
     "end_time": "2022-02-08T01:11:26.877891Z",
     "start_time": "2022-02-08T01:11:26.751735Z"
    },
    "hidden": true
   },
   "outputs": [],
   "source": [
    "df3 = df3[(df3['open'] != 0) & (df3['sales'] > 0)]"
   ]
  },
  {
   "cell_type": "markdown",
   "id": "1b8f1acd",
   "metadata": {
    "hidden": true
   },
   "source": [
    "## Selecao de colunas"
   ]
  },
  {
   "cell_type": "code",
   "execution_count": 30,
   "id": "b972a58d",
   "metadata": {
    "ExecuteTime": {
     "end_time": "2022-02-08T01:11:26.963005Z",
     "start_time": "2022-02-08T01:11:26.879449Z"
    },
    "hidden": true
   },
   "outputs": [],
   "source": [
    "cols_drop = ['customers', 'open', 'promo_interval', 'month_map']\n",
    "df3 = df3.drop( cols_drop, axis = 1)"
   ]
  },
  {
   "cell_type": "code",
   "execution_count": 31,
   "id": "096a9f77",
   "metadata": {
    "ExecuteTime": {
     "end_time": "2022-02-08T01:11:26.970999Z",
     "start_time": "2022-02-08T01:11:26.965357Z"
    },
    "hidden": true
   },
   "outputs": [
    {
     "data": {
      "text/plain": [
       "Index(['store', 'day_of_week', 'date', 'sales', 'promo', 'state_holiday',\n",
       "       'school_holiday', 'store_type', 'assortment', 'competition_distance',\n",
       "       'competition_open_since_month', 'competition_open_since_year', 'promo2',\n",
       "       'promo2_since_week', 'promo2_since_year', 'is_promo', 'year', 'month',\n",
       "       'day', 'week_of_year', 'year_week', 'competition_since',\n",
       "       'competition_time_month', 'promo_since', 'promo_time_week'],\n",
       "      dtype='object')"
      ]
     },
     "execution_count": 31,
     "metadata": {},
     "output_type": "execute_result"
    }
   ],
   "source": [
    "df3.columns"
   ]
  },
  {
   "cell_type": "markdown",
   "id": "5ea9b4b6",
   "metadata": {
    "heading_collapsed": true
   },
   "source": [
    "# Passo 04 - Analise Exploratoria dos Dados"
   ]
  },
  {
   "cell_type": "code",
   "execution_count": 32,
   "id": "0489b0f7",
   "metadata": {
    "ExecuteTime": {
     "end_time": "2022-02-08T01:11:27.038128Z",
     "start_time": "2022-02-08T01:11:26.973253Z"
    },
    "hidden": true
   },
   "outputs": [],
   "source": [
    "df4 = df3.copy()"
   ]
  },
  {
   "cell_type": "markdown",
   "id": "3c57e942",
   "metadata": {
    "heading_collapsed": true,
    "hidden": true
   },
   "source": [
    "## Analise Univariada"
   ]
  },
  {
   "cell_type": "markdown",
   "id": "06477e4d",
   "metadata": {
    "heading_collapsed": true,
    "hidden": true
   },
   "source": [
    "### Response Variable"
   ]
  },
  {
   "cell_type": "code",
   "execution_count": 33,
   "id": "6deb88cc",
   "metadata": {
    "ExecuteTime": {
     "end_time": "2022-02-08T01:11:27.299353Z",
     "start_time": "2022-02-08T01:11:27.040842Z"
    },
    "hidden": true
   },
   "outputs": [
    {
     "name": "stderr",
     "output_type": "stream",
     "text": [
      "/home/lucas/.pyenv/versions/3.8.0/envs/datascienceemproducao/lib/python3.8/site-packages/seaborn/distributions.py:2619: FutureWarning: `distplot` is a deprecated function and will be removed in a future version. Please adapt your code to use either `displot` (a figure-level function with similar flexibility) or `histplot` (an axes-level function for histograms).\n",
      "  warnings.warn(msg, FutureWarning)\n"
     ]
    },
    {
     "data": {
      "text/plain": [
       "<AxesSubplot:xlabel='sales'>"
      ]
     },
     "execution_count": 33,
     "metadata": {},
     "output_type": "execute_result"
    },
    {
     "data": {
      "image/png": "[encoded data removed]",
      "text/plain": [
       "<Figure size 432x288 with 1 Axes>"
      ]
     },
     "metadata": {
      "needs_background": "light"
     },
     "output_type": "display_data"
    }
   ],
   "source": [
    "sns.distplot( df4['sales'], kde = False)"
   ]
  },
  {
   "cell_type": "markdown",
   "id": "6bff709a",
   "metadata": {
    "hidden": true
   },
   "source": [
    "### Numerical Variable"
   ]
  },
  {
   "cell_type": "code",
   "execution_count": 34,
   "id": "f2cb1e81",
   "metadata": {
    "ExecuteTime": {
     "end_time": "2022-02-08T01:11:28.801311Z",
     "start_time": "2022-02-08T01:11:27.301068Z"
    },
    "hidden": true
   },
   "outputs": [
    {
     "data": {
      "text/plain": [
       "array([[<AxesSubplot:title={'center':'store'}>,\n",
       "        <AxesSubplot:title={'center':'day_of_week'}>,\n",
       "        <AxesSubplot:title={'center':'sales'}>,\n",
       "        <AxesSubplot:title={'center':'customers'}>],\n",
       "       [<AxesSubplot:title={'center':'open'}>,\n",
       "        <AxesSubplot:title={'center':'promo'}>,\n",
       "        <AxesSubplot:title={'center':'school_holiday'}>,\n",
       "        <AxesSubplot:title={'center':'competition_distance'}>],\n",
       "       [<AxesSubplot:title={'center':'competition_open_since_month'}>,\n",
       "        <AxesSubplot:title={'center':'competition_open_since_year'}>,\n",
       "        <AxesSubplot:title={'center':'promo2'}>,\n",
       "        <AxesSubplot:title={'center':'promo2_since_week'}>],\n",
       "       [<AxesSubplot:title={'center':'promo2_since_year'}>,\n",
       "        <AxesSubplot:title={'center':'is_promo'}>, <AxesSubplot:>,\n",
       "        <AxesSubplot:>]], dtype=object)"
      ]
     },
     "execution_count": 34,
     "metadata": {},
     "output_type": "execute_result"
    },
    {
     "data": {
      "image/png": "[encoded data removed]",
      "text/plain": [
       "<Figure size 432x288 with 16 Axes>"
      ]
     },
     "metadata": {
      "needs_background": "light"
     },
     "output_type": "display_data"
    }
   ],
   "source": [
    "num_attributes.hist( bins=25 )"
   ]
  },
  {
   "cell_type": "markdown",
   "id": "4c3e6291",
   "metadata": {
    "hidden": true
   },
   "source": [
    "### Categorical Variable"
   ]
  },
  {
   "cell_type": "code",
   "execution_count": 35,
   "id": "f5f4241d",
   "metadata": {
    "ExecuteTime": {
     "end_time": "2022-02-08T01:11:28.829966Z",
     "start_time": "2022-02-08T01:11:28.803167Z"
    },
    "hidden": true
   },
   "outputs": [
    {
     "data": {
      "text/plain": [
       "0         basic\n",
       "3      extended\n",
       "258       extra\n",
       "Name: assortment, dtype: object"
      ]
     },
     "execution_count": 35,
     "metadata": {},
     "output_type": "execute_result"
    }
   ],
   "source": [
    "# cat_attributes.head()\n",
    "df4['assortment'].drop_duplicates()"
   ]
  },
  {
   "cell_type": "code",
   "execution_count": 36,
   "id": "e64e14cd",
   "metadata": {
    "ExecuteTime": {
     "end_time": "2022-02-08T01:11:35.896562Z",
     "start_time": "2022-02-08T01:11:28.831447Z"
    },
    "hidden": true,
    "hide_input": true
   },
   "outputs": [
    {
     "name": "stderr",
     "output_type": "stream",
     "text": [
      "/home/lucas/.pyenv/versions/3.8.0/envs/datascienceemproducao/lib/python3.8/site-packages/seaborn/_decorators.py:36: FutureWarning: Pass the following variable as a keyword arg: x. From version 0.12, the only valid positional argument will be `data`, and passing other arguments without an explicit keyword will result in an error or misinterpretation.\n",
      "  warnings.warn(\n",
      "/home/lucas/.pyenv/versions/3.8.0/envs/datascienceemproducao/lib/python3.8/site-packages/seaborn/_decorators.py:36: FutureWarning: Pass the following variable as a keyword arg: x. From version 0.12, the only valid positional argument will be `data`, and passing other arguments without an explicit keyword will result in an error or misinterpretation.\n",
      "  warnings.warn(\n",
      "/home/lucas/.pyenv/versions/3.8.0/envs/datascienceemproducao/lib/python3.8/site-packages/seaborn/_decorators.py:36: FutureWarning: Pass the following variable as a keyword arg: x. From version 0.12, the only valid positional argument will be `data`, and passing other arguments without an explicit keyword will result in an error or misinterpretation.\n",
      "  warnings.warn(\n"
     ]
    },
    {
     "data": {
      "text/plain": [
       "<AxesSubplot:xlabel='sales', ylabel='Density'>"
      ]
     },
     "execution_count": 36,
     "metadata": {},
     "output_type": "execute_result"
    },
    {
     "data": {
      "image/png": "[encoded data removed]",
      "text/plain": [
       "<Figure size 432x288 with 6 Axes>"
      ]
     },
     "metadata": {
      "needs_background": "light"
     },
     "output_type": "display_data"
    }
   ],
   "source": [
    "# state_holiday\n",
    "plt.subplot( 3, 2, 1)\n",
    "a = df4[df4['state_holiday'] != 'regular_day']\n",
    "sns.countplot( a['state_holiday'] )\n",
    "\n",
    "plt.subplot( 3, 2, 2)\n",
    "sns.kdeplot( df4[df4['state_holiday'] == 'public_holiday']['sales'], label='public_holiday', shade = True )\n",
    "sns.kdeplot( df4[df4['state_holiday'] == 'easter_holiday']['sales'], label='easter_holiday', shade = True )\n",
    "sns.kdeplot( df4[df4['state_holiday'] == 'christmas_holiday']['sales'], label='christmas_holiday', shade = True )\n",
    "\n",
    "\n",
    "# store_type\n",
    "plt.subplot( 3, 2, 3)\n",
    "sns.countplot( df4['store_type'] )\n",
    "\n",
    "plt.subplot( 3, 2, 4)\n",
    "sns.kdeplot( df4[df4['store_type'] == 'a']['sales'], label='a', shade = True )\n",
    "sns.kdeplot( df4[df4['store_type'] == 'b']['sales'], label='b', shade = True )\n",
    "sns.kdeplot( df4[df4['store_type'] == 'c']['sales'], label='c', shade = True )\n",
    "sns.kdeplot( df4[df4['store_type'] == 'd']['sales'], label='d', shade = True )\n",
    "\n",
    "# assortment\n",
    "plt.subplot( 3, 2, 5)\n",
    "sns.countplot( df4['assortment'] )\n",
    "\n",
    "plt.subplot( 3, 2, 6)\n",
    "sns.kdeplot( df4[df4['assortment'] == 'extended']['sales'], label='extended', shade = True )\n",
    "sns.kdeplot( df4[df4['assortment'] == 'basic']['sales'], label='basic', shade = True )\n",
    "sns.kdeplot( df4[df4['assortment'] == 'extra']['sales'], label='extra', shade = True )"
   ]
  },
  {
   "cell_type": "markdown",
   "id": "e0138d22",
   "metadata": {
    "heading_collapsed": true,
    "hidden": true
   },
   "source": [
    "## Analise Bivariada"
   ]
  },
  {
   "cell_type": "markdown",
   "id": "d9ff822c",
   "metadata": {
    "heading_collapsed": true,
    "hidden": true
   },
   "source": [
    "### **H1.** Lojas com maior sortimento deveriam vender mais\n",
    "**Falsa** Lojas com MAIOR SORTIMENTO vendem MENOS"
   ]
  },
  {
   "cell_type": "code",
   "execution_count": 37,
   "id": "95699cc7",
   "metadata": {
    "ExecuteTime": {
     "end_time": "2022-02-08T01:11:36.425723Z",
     "start_time": "2022-02-08T01:11:35.898003Z"
    },
    "hidden": true
   },
   "outputs": [
    {
     "data": {
      "text/plain": [
       "<AxesSubplot:xlabel='year_week'>"
      ]
     },
     "execution_count": 37,
     "metadata": {},
     "output_type": "execute_result"
    },
    {
     "data": {
      "image/png": "[encoded data removed]",
      "text/plain": [
       "<Figure size 432x288 with 1 Axes>"
      ]
     },
     "metadata": {
      "needs_background": "light"
     },
     "output_type": "display_data"
    },
    {
     "data": {
      "image/png": "[encoded data removed]",
      "text/plain": [
       "<Figure size 432x288 with 1 Axes>"
      ]
     },
     "metadata": {
      "needs_background": "light"
     },
     "output_type": "display_data"
    },
    {
     "data": {
      "image/png": "[encoded data removed]",
      "text/plain": [
       "<Figure size 432x288 with 1 Axes>"
      ]
     },
     "metadata": {
      "needs_background": "light"
     },
     "output_type": "display_data"
    }
   ],
   "source": [
    "aux1 = df4[['assortment', 'sales']].groupby( 'assortment' ).sum().reset_index()\n",
    "\n",
    "sns.barplot( x='assortment', y='sales', data=aux1)\n",
    "\n",
    "aux2 = df4[['year_week', 'assortment', 'sales']].groupby(['year_week', 'assortment']).sum().reset_index()\n",
    "\n",
    "aux2.pivot( index='year_week', columns='assortment', values='sales').plot()\n",
    "\n",
    "aux3 = aux2[aux2['assortment'] == 'extra']\n",
    "aux3.pivot( index='year_week', columns='assortment', values='sales').plot()"
   ]
  },
  {
   "cell_type": "markdown",
   "id": "80bb3c47",
   "metadata": {
    "heading_collapsed": true,
    "hidden": true
   },
   "source": [
    "### **H2.** Lojas com competidores mais próximos deveriam vender menos\n",
    "\n",
    "**Falsa** Lojas com COMPETIDORES MAIS PROXIMOS vendem MAIS"
   ]
  },
  {
   "cell_type": "code",
   "execution_count": 38,
   "id": "86b31f3c",
   "metadata": {
    "ExecuteTime": {
     "end_time": "2022-02-08T01:11:37.033401Z",
     "start_time": "2022-02-08T01:11:36.427139Z"
    },
    "hidden": true
   },
   "outputs": [
    {
     "data": {
      "text/plain": [
       "<AxesSubplot:>"
      ]
     },
     "execution_count": 38,
     "metadata": {},
     "output_type": "execute_result"
    },
    {
     "data": {
      "image/png": "[encoded data removed]",
      "text/plain": [
       "<Figure size 432x288 with 4 Axes>"
      ]
     },
     "metadata": {
      "needs_background": "light"
     },
     "output_type": "display_data"
    }
   ],
   "source": [
    "aux1 = df4[['competition_distance', 'sales']].groupby( 'competition_distance' ).sum().reset_index()\n",
    "\n",
    "plt.subplot( 1, 3, 1)\n",
    "sns.scatterplot( x ='competition_distance', y='sales', data=aux1)\n",
    "\n",
    "plt.subplot( 1, 3, 2)\n",
    "bins = list( np.arange( 0, 20000, 1000) )\n",
    "aux1['competition_distance_binned'] = pd.cut( aux1['competition_distance'], bins = bins)\n",
    "aux2 = aux1[['competition_distance_binned', 'sales']].groupby( 'competition_distance_binned' ).sum().reset_index()\n",
    "sns.barplot(x='competition_distance_binned', y='sales', data=aux2 )\n",
    "\n",
    "plt.subplot(1, 3, 3)\n",
    "sns.heatmap( aux1.corr( method='pearson'), annot = True)"
   ]
  },
  {
   "cell_type": "markdown",
   "id": "4c667fab",
   "metadata": {
    "heading_collapsed": true,
    "hidden": true
   },
   "source": [
    "### **H3.** Lojas com competidores à mais tempo deveriam vender mais"
   ]
  },
  {
   "cell_type": "code",
   "execution_count": 39,
   "id": "f3dab6c5",
   "metadata": {
    "ExecuteTime": {
     "end_time": "2022-02-08T01:11:38.768741Z",
     "start_time": "2022-02-08T01:11:37.034892Z"
    },
    "hidden": true
   },
   "outputs": [
    {
     "data": {
      "image/png": "[encoded data removed]",
      "text/plain": [
       "<Figure size 432x288 with 4 Axes>"
      ]
     },
     "metadata": {
      "needs_background": "light"
     },
     "output_type": "display_data"
    }
   ],
   "source": [
    "plt.subplot( 1, 3, 1)\n",
    "aux1 = df4[['competition_time_month', 'sales']].groupby( 'competition_time_month' ).sum().reset_index()\n",
    "aux2 = aux1[(aux1['competition_time_month'] < 120) & ( aux1['competition_time_month'] != 0 ) ]\n",
    "sns.barplot( x='competition_time_month', y='sales', data=aux2 );\n",
    "plt.xticks(rotation=90);\n",
    "\n",
    "plt.subplot( 1, 3, 2)\n",
    "sns.regplot( x='competition_time_month', y='sales', data=aux2 );\n",
    "\n",
    "plt.subplot( 1, 3, 3)\n",
    "x = sns.heatmap( aux1.corr(method='pearson'), annot=True);\n",
    "bottom, top = x.get_ylim()\n",
    "x.set_ylim( bottom+0.5, top-0.5);"
   ]
  },
  {
   "cell_type": "markdown",
   "id": "743a4105",
   "metadata": {
    "heading_collapsed": true,
    "hidden": true
   },
   "source": [
    "### **H4.** Lojas com promoções ativas por mais tempo deveriam vender mais\n",
    "**Falsa** Lojas com promocoes ativas por mais tempo vendem menos depois de um certo periodo de promoção"
   ]
  },
  {
   "cell_type": "code",
   "execution_count": 40,
   "id": "9b6ceeae",
   "metadata": {
    "ExecuteTime": {
     "end_time": "2022-02-08T01:11:43.436586Z",
     "start_time": "2022-02-08T01:11:38.770612Z"
    },
    "hidden": true
   },
   "outputs": [
    {
     "data": {
      "image/png": "[encoded data removed]",
      "text/plain": [
       "<Figure size 432x288 with 6 Axes>"
      ]
     },
     "metadata": {
      "needs_background": "light"
     },
     "output_type": "display_data"
    }
   ],
   "source": [
    "aux1 = df4[['promo_time_week', 'sales']].groupby( 'promo_time_week' ).sum().reset_index()\n",
    "\n",
    "grid = GridSpec( 2, 3 )\n",
    "\n",
    "plt.subplot( grid[0,0] )\n",
    "aux2 = aux1[aux1['promo_time_week'] > 0] # Promo Extendida\n",
    "sns.barplot( x='promo_time_week', y='sales', data=aux2)\n",
    "plt.xticks( rotation=90 );\n",
    "\n",
    "plt.subplot( grid[0,1] )\n",
    "sns.regplot( x='promo_time_week', y='sales', data=aux2)\n",
    "\n",
    "plt.subplot( grid[1,0] )\n",
    "aux3 = aux1[aux1['promo_time_week'] < 0] # Promo regular\n",
    "sns.barplot( x='promo_time_week', y='sales', data=aux3)\n",
    "plt.xticks( rotation=90 );\n",
    "\n",
    "plt.subplot( grid[1,1] )\n",
    "sns.regplot( x='promo_time_week', y='sales', data=aux3)\n",
    "\n",
    "plt.subplot( grid[:, 2] )\n",
    "sns.heatmap( aux1.corr( method='pearson' ), annot=True );"
   ]
  },
  {
   "cell_type": "markdown",
   "id": "03379dea",
   "metadata": {
    "ExecuteTime": {
     "end_time": "2022-02-06T00:05:15.259720Z",
     "start_time": "2022-02-06T00:05:15.252188Z"
    },
    "hidden": true
   },
   "source": [
    "### <s>**H5.** Lojas com mais dias de promoção deveriam vender mais<s>\n"
   ]
  },
  {
   "cell_type": "markdown",
   "id": "7ec8a649",
   "metadata": {
    "heading_collapsed": true,
    "hidden": true
   },
   "source": [
    "### **H6.** Lojas com mais promoções consecutivas deveriam vender mais.\n",
    "**Falsa** Lojas com mais promoções consecutivas vendem menos"
   ]
  },
  {
   "cell_type": "code",
   "execution_count": 41,
   "id": "ff7fa347",
   "metadata": {
    "ExecuteTime": {
     "end_time": "2022-02-08T01:11:43.486759Z",
     "start_time": "2022-02-08T01:11:43.438009Z"
    },
    "hidden": true
   },
   "outputs": [
    {
     "data": {
      "text/html": [
       "<div>\n",
       "<style scoped>\n",
       "    .dataframe tbody tr th:only-of-type {\n",
       "        vertical-align: middle;\n",
       "    }\n",
       "\n",
       "    .dataframe tbody tr th {\n",
       "        vertical-align: top;\n",
       "    }\n",
       "\n",
       "    .dataframe thead th {\n",
       "        text-align: right;\n",
       "    }\n",
       "</style>\n",
       "<table border=\"1\" class=\"dataframe\">\n",
       "  <thead>\n",
       "    <tr style=\"text-align: right;\">\n",
       "      <th></th>\n",
       "      <th>promo</th>\n",
       "      <th>promo2</th>\n",
       "      <th>sales</th>\n",
       "    </tr>\n",
       "  </thead>\n",
       "  <tbody>\n",
       "    <tr>\n",
       "      <th>0</th>\n",
       "      <td>0</td>\n",
       "      <td>0</td>\n",
       "      <td>1482612096</td>\n",
       "    </tr>\n",
       "    <tr>\n",
       "      <th>1</th>\n",
       "      <td>0</td>\n",
       "      <td>1</td>\n",
       "      <td>1289362241</td>\n",
       "    </tr>\n",
       "    <tr>\n",
       "      <th>2</th>\n",
       "      <td>1</td>\n",
       "      <td>0</td>\n",
       "      <td>1628930532</td>\n",
       "    </tr>\n",
       "    <tr>\n",
       "      <th>3</th>\n",
       "      <td>1</td>\n",
       "      <td>1</td>\n",
       "      <td>1472275754</td>\n",
       "    </tr>\n",
       "  </tbody>\n",
       "</table>\n",
       "</div>"
      ],
      "text/plain": [
       "   promo  promo2       sales\n",
       "0      0       0  1482612096\n",
       "1      0       1  1289362241\n",
       "2      1       0  1628930532\n",
       "3      1       1  1472275754"
      ]
     },
     "execution_count": 41,
     "metadata": {},
     "output_type": "execute_result"
    }
   ],
   "source": [
    "df4[['promo', 'promo2', 'sales']].groupby( ['promo', 'promo2']).sum().reset_index()"
   ]
  },
  {
   "cell_type": "code",
   "execution_count": 42,
   "id": "7e774267",
   "metadata": {
    "ExecuteTime": {
     "end_time": "2022-02-08T01:11:43.711636Z",
     "start_time": "2022-02-08T01:11:43.488200Z"
    },
    "hidden": true
   },
   "outputs": [
    {
     "data": {
      "text/plain": [
       "<matplotlib.legend.Legend at 0x7ff6caec2310>"
      ]
     },
     "execution_count": 42,
     "metadata": {},
     "output_type": "execute_result"
    },
    {
     "data": {
      "image/png": "[encoded data removed]",
      "text/plain": [
       "<Figure size 432x288 with 1 Axes>"
      ]
     },
     "metadata": {
      "needs_background": "light"
     },
     "output_type": "display_data"
    }
   ],
   "source": [
    "aux1 = df4[( df4['promo'] == 1) & ( df4['promo2'] == 1 )][['year_week', 'sales']].groupby( 'year_week' ).sum().reset_index()\n",
    "ax = aux1.plot()\n",
    "\n",
    "aux2 = df4[( df4['promo'] == 1) & ( df4['promo2'] == 0 )][['year_week', 'sales']].groupby( 'year_week' ).sum().reset_index()\n",
    "aux2.plot( ax = ax)\n",
    "\n",
    "ax.legend(labels=['Tradicional e extendida', 'Extendida'])"
   ]
  },
  {
   "cell_type": "markdown",
   "id": "e3dc4596",
   "metadata": {
    "hidden": true
   },
   "source": [
    "### **H7.** Lojas abertas durante o feriado de natal deveriam vender mais\n",
    "**Falsa** Lojas abertas durante o feriado do Natal vendem menos."
   ]
  },
  {
   "cell_type": "code",
   "execution_count": 43,
   "id": "4123ade0",
   "metadata": {
    "ExecuteTime": {
     "end_time": "2022-02-08T01:11:44.438022Z",
     "start_time": "2022-02-08T01:11:43.713037Z"
    },
    "hidden": true
   },
   "outputs": [
    {
     "data": {
      "image/png": "[encoded data removed]",
      "text/plain": [
       "<Figure size 432x288 with 6 Axes>"
      ]
     },
     "metadata": {
      "needs_background": "light"
     },
     "output_type": "display_data"
    }
   ],
   "source": [
    "aux = df4[df4['state_holiday'] != 'regular_day']\n",
    "\n",
    "plt.subplot( 3, 2, 1)\n",
    "aux1 = aux[['state_holiday', 'sales']].groupby( 'state_holiday' ).sum().reset_index()\n",
    "sns.barplot( x='state_holiday', y='sales', data=aux1);\n",
    "\n",
    "\n",
    "plt.subplot( 3, 2, 2)\n",
    "aux2 = aux[['year', 'state_holiday', 'sales']].groupby(['year', 'state_holiday']).sum().reset_index()\n",
    "sns.barplot( x='year', y='sales', hue='state_holiday', data=aux2);\n",
    "\n",
    "plt.subplot( 3, 2, 3)\n",
    "aux1 = aux[['state_holiday', 'sales']].groupby( 'state_holiday' ).mean().reset_index()\n",
    "sns.barplot( x='state_holiday', y='sales', data=aux1);\n",
    "\n",
    "plt.subplot( 3, 2, 4)\n",
    "aux2 = aux[['year', 'state_holiday', 'sales']].groupby(['year', 'state_holiday']).mean().reset_index()\n",
    "sns.barplot( x='year', y='sales', hue='state_holiday', data=aux2);\n",
    "\n",
    "\n",
    "aux = df4\n",
    "\n",
    "plt.subplot( 3, 2, 5)\n",
    "aux1 = aux[['state_holiday', 'sales']].groupby( 'state_holiday' ).mean().reset_index()\n",
    "sns.barplot( x='state_holiday', y='sales', data=aux1);\n",
    "\n",
    "plt.subplot( 3, 2, 6)\n",
    "aux2 = aux[['year', 'state_holiday', 'sales']].groupby(['year', 'state_holiday']).mean().reset_index()\n",
    "sns.barplot( x='year', y='sales', hue='state_holiday', data=aux2);"
   ]
  },
  {
   "cell_type": "markdown",
   "id": "c6080d89",
   "metadata": {
    "hidden": true
   },
   "source": [
    "### **H9.** Lojas deveriam vender mais ao longo dos anos."
   ]
  },
  {
   "cell_type": "code",
   "execution_count": 44,
   "id": "33eacf46",
   "metadata": {
    "ExecuteTime": {
     "end_time": "2022-02-08T01:11:44.821485Z",
     "start_time": "2022-02-08T01:11:44.439559Z"
    },
    "hidden": true
   },
   "outputs": [
    {
     "data": {
      "image/png": "[encoded data removed]",
      "text/plain": [
       "<Figure size 432x288 with 4 Axes>"
      ]
     },
     "metadata": {
      "needs_background": "light"
     },
     "output_type": "display_data"
    }
   ],
   "source": [
    "aux1 = df4[['year', 'sales']].groupby( 'year' ).sum().reset_index()\n",
    "\n",
    "plt.subplot( 1, 3, 1)\n",
    "sns.barplot( x='year', y='sales', data=aux1 );\n",
    "\n",
    "plt.subplot( 1, 3, 2)\n",
    "sns.regplot( x='year', y='sales', data=aux1 );\n",
    "\n",
    "plt.subplot( 1, 3, 3)\n",
    "sns.heatmap( aux1.corr( method = 'pearson') , annot=True );"
   ]
  },
  {
   "cell_type": "markdown",
   "id": "9d41a7a8",
   "metadata": {
    "hidden": true
   },
   "source": [
    "### **H10.** Lojas deveriam vender mais no segundo semestre do ano.\n",
    "**Falsa** Lojas vendem menos no segundo semestre do ano"
   ]
  },
  {
   "cell_type": "code",
   "execution_count": 45,
   "id": "26458fd4",
   "metadata": {
    "ExecuteTime": {
     "end_time": "2022-02-08T01:11:45.254104Z",
     "start_time": "2022-02-08T01:11:44.823056Z"
    },
    "hidden": true
   },
   "outputs": [
    {
     "data": {
      "image/png": "[encoded data removed]",
      "text/plain": [
       "<Figure size 432x288 with 4 Axes>"
      ]
     },
     "metadata": {
      "needs_background": "light"
     },
     "output_type": "display_data"
    }
   ],
   "source": [
    "aux1 = df4[['month', 'sales']].groupby( 'month' ).sum().reset_index()\n",
    "\n",
    "plt.subplot( 1, 3, 1)\n",
    "sns.barplot( x='month', y='sales', data=aux1 );\n",
    "\n",
    "plt.subplot( 1, 3, 2)\n",
    "sns.regplot( x='month', y='sales', data=aux1 );\n",
    "\n",
    "plt.subplot( 1, 3, 3)\n",
    "sns.heatmap( aux1.corr( method = 'pearson') , annot=True );"
   ]
  },
  {
   "cell_type": "markdown",
   "id": "d8ce27bf",
   "metadata": {
    "hidden": true
   },
   "source": [
    "### **H11.** Lojas deveriam vender mais depois do dia 10 de cada mês.\n",
    "**Verdadeira** Lojas vendem mais depois do dia 10 de cada mês"
   ]
  },
  {
   "cell_type": "code",
   "execution_count": 46,
   "id": "31bf1668",
   "metadata": {
    "ExecuteTime": {
     "end_time": "2022-02-08T01:11:45.865719Z",
     "start_time": "2022-02-08T01:11:45.256014Z"
    },
    "hidden": true
   },
   "outputs": [
    {
     "data": {
      "image/png": "[encoded data removed]",
      "text/plain": [
       "<Figure size 432x288 with 5 Axes>"
      ]
     },
     "metadata": {
      "needs_background": "light"
     },
     "output_type": "display_data"
    }
   ],
   "source": [
    "aux1 = df4[['day', 'sales']].groupby( 'day' ).sum().reset_index()\n",
    "\n",
    "plt.subplot( 2, 2, 1)\n",
    "sns.barplot( x='day', y='sales', data=aux1 );\n",
    "\n",
    "plt.subplot( 2, 2, 2)\n",
    "sns.regplot( x='day', y='sales', data=aux1 );\n",
    "\n",
    "plt.subplot( 2, 2, 3)\n",
    "sns.heatmap( aux1.corr( method = 'pearson') , annot=True );\n",
    "\n",
    "aux1['before_after'] = aux1['day'].apply( lambda x: 'before_10_days' if x <=10 else 'after_10_days')\n",
    "aux2 = aux1[['before_after', 'sales']].groupby( 'before_after' ).sum().reset_index()\n",
    "\n",
    "plt.subplot(2, 2, 4)\n",
    "sns.barplot( x='before_after', y='sales', data=aux2);"
   ]
  },
  {
   "cell_type": "markdown",
   "id": "cd3b7a83",
   "metadata": {
    "hidden": true
   },
   "source": [
    "### **H12.** Lojas deveriam vender menos aos finais de semana.\n",
    "**Verdadeira** Lojas vendem menos nos finais de semana"
   ]
  },
  {
   "cell_type": "code",
   "execution_count": 47,
   "id": "93efdc13",
   "metadata": {
    "ExecuteTime": {
     "end_time": "2022-02-08T01:11:46.286169Z",
     "start_time": "2022-02-08T01:11:45.867186Z"
    },
    "hidden": true
   },
   "outputs": [
    {
     "data": {
      "text/plain": [
       "<AxesSubplot:>"
      ]
     },
     "execution_count": 47,
     "metadata": {},
     "output_type": "execute_result"
    },
    {
     "data": {
      "image/png": "[encoded data removed]",
      "text/plain": [
       "<Figure size 432x288 with 4 Axes>"
      ]
     },
     "metadata": {
      "needs_background": "light"
     },
     "output_type": "display_data"
    }
   ],
   "source": [
    "aux1 = df4[['day_of_week', 'sales']].groupby( 'day_of_week' ).sum().reset_index()\n",
    "\n",
    "plt.subplot( 1, 3, 1 )\n",
    "sns.barplot(x='day_of_week', y='sales', data=aux1 );\n",
    "\n",
    "plt.subplot(1, 3, 2)\n",
    "sns.regplot(x='day_of_week', y='sales', data=aux1);\n",
    "\n",
    "plt.subplot(1, 3, 3)\n",
    "sns.heatmap( aux1.corr( method='pearson' ), annot=True )"
   ]
  },
  {
   "cell_type": "markdown",
   "id": "be28565d",
   "metadata": {
    "hidden": true
   },
   "source": [
    "### **H13.** Lojas deveriam vender menos durante os feriados escolares\n",
    "**Verdadeira** Lojas vendem menos durante os feriados escolares, exceto os meses de Julho e Agosto"
   ]
  },
  {
   "cell_type": "code",
   "execution_count": 48,
   "id": "134b9aa1",
   "metadata": {
    "ExecuteTime": {
     "end_time": "2022-02-08T01:11:46.629110Z",
     "start_time": "2022-02-08T01:11:46.287549Z"
    },
    "hidden": true
   },
   "outputs": [
    {
     "data": {
      "image/png": "[encoded data removed]",
      "text/plain": [
       "<Figure size 432x288 with 2 Axes>"
      ]
     },
     "metadata": {
      "needs_background": "light"
     },
     "output_type": "display_data"
    }
   ],
   "source": [
    "aux1 = df4[['school_holiday', 'sales']].groupby( 'school_holiday' ).sum().reset_index()\n",
    "plt.subplot(2, 1, 1)\n",
    "sns.barplot( x='school_holiday', y='sales', data=aux1);\n",
    "\n",
    "aux2 = df4[['month', 'school_holiday', 'sales']].groupby( ['month', 'school_holiday'] ).sum().reset_index()\n",
    "plt.subplot(2, 1, 2)\n",
    "sns.barplot( x='month', y='sales', hue='school_holiday', data=aux2);"
   ]
  },
  {
   "cell_type": "markdown",
   "id": "483b8e0c",
   "metadata": {
    "hidden": true
   },
   "source": [
    "### Resumo das hipoteses"
   ]
  },
  {
   "cell_type": "code",
   "execution_count": 49,
   "id": "0d76587c",
   "metadata": {
    "ExecuteTime": {
     "end_time": "2022-02-08T01:11:46.636573Z",
     "start_time": "2022-02-08T01:11:46.630511Z"
    },
    "hidden": true
   },
   "outputs": [],
   "source": [
    "from tabulate import tabulate"
   ]
  },
  {
   "cell_type": "code",
   "execution_count": 50,
   "id": "fefa77bf",
   "metadata": {
    "ExecuteTime": {
     "end_time": "2022-02-08T01:11:46.643418Z",
     "start_time": "2022-02-08T01:11:46.637889Z"
    },
    "hidden": true
   },
   "outputs": [
    {
     "name": "stdout",
     "output_type": "stream",
     "text": [
      "Hipoteses    Conclusao    Relevancia\n",
      "-----------  -----------  ------------\n",
      "H1           Falsa        Baixa\n",
      "H2           Falsa        Media\n",
      "H3           Falsa        Media\n",
      "H4           Falsa        Baixa\n",
      "H5           -            -\n",
      "H7           Falsa        Baixa\n",
      "H8           Falsa        Media\n",
      "H9           Falsa        Alta\n",
      "H10          Falsa        Alta\n",
      "H11          Verdadeira   Alta\n",
      "H12          Verdadeira   Alta\n",
      "H13          Verdadeira   Baixa\n"
     ]
    }
   ],
   "source": [
    "tab = [['Hipoteses', 'Conclusao', 'Relevancia'],\n",
    "      ['H1', 'Falsa', 'Baixa'],\n",
    "      ['H2', 'Falsa', 'Media'],\n",
    "      ['H3', 'Falsa', 'Media'],\n",
    "      ['H4', 'Falsa', 'Baixa'],\n",
    "      ['H5', '-', '-'],\n",
    "      ['H7', 'Falsa', 'Baixa'],\n",
    "      ['H8', 'Falsa', 'Media'],\n",
    "      ['H9', 'Falsa', 'Alta'],\n",
    "      ['H10', 'Falsa', 'Alta'],\n",
    "      ['H11', 'Verdadeira', 'Alta'],\n",
    "      ['H12', 'Verdadeira', 'Alta'],\n",
    "      ['H13', 'Verdadeira', 'Baixa']]\n",
    "print( tabulate( tab, headers='firstrow'))"
   ]
  },
  {
   "cell_type": "markdown",
   "id": "1e05ecc4",
   "metadata": {
    "hidden": true
   },
   "source": [
    "## Analise Multivariada"
   ]
  },
  {
   "cell_type": "markdown",
   "id": "787b1824",
   "metadata": {
    "heading_collapsed": true,
    "hidden": true
   },
   "source": [
    "### Numerical Attributes"
   ]
  },
  {
   "cell_type": "code",
   "execution_count": 51,
   "id": "e9ebed15",
   "metadata": {
    "ExecuteTime": {
     "end_time": "2022-02-08T01:11:47.885921Z",
     "start_time": "2022-02-08T01:11:46.645134Z"
    },
    "hidden": true
   },
   "outputs": [
    {
     "data": {
      "image/png": "[encoded data removed]",
      "text/plain": [
       "<Figure size 432x288 with 2 Axes>"
      ]
     },
     "metadata": {
      "needs_background": "light"
     },
     "output_type": "display_data"
    }
   ],
   "source": [
    "correlation = num_attributes.corr( method='pearson' )\n",
    "sns.heatmap( correlation, annot=True);"
   ]
  },
  {
   "cell_type": "markdown",
   "id": "41d79b6b",
   "metadata": {
    "hidden": true
   },
   "source": [
    "### Categorical Attributes"
   ]
  },
  {
   "cell_type": "code",
   "execution_count": 52,
   "id": "4588066d",
   "metadata": {
    "ExecuteTime": {
     "end_time": "2022-02-08T01:11:47.900475Z",
     "start_time": "2022-02-08T01:11:47.887406Z"
    },
    "hidden": true
   },
   "outputs": [
    {
     "data": {
      "text/plain": [
       "0.23835291274582335"
      ]
     },
     "execution_count": 52,
     "metadata": {},
     "output_type": "execute_result"
    }
   ],
   "source": [
    "cramer_v(a['store_type'], a['state_holiday'])"
   ]
  },
  {
   "cell_type": "code",
   "execution_count": 53,
   "id": "b9253d95",
   "metadata": {
    "ExecuteTime": {
     "end_time": "2022-02-08T01:11:49.038797Z",
     "start_time": "2022-02-08T01:11:47.902197Z"
    },
    "hidden": true
   },
   "outputs": [],
   "source": [
    "# only categorical data\n",
    "a = df4.select_dtypes( include ='object')\n",
    "\n",
    "# calculate cramer v\n",
    "a1 = cramer_v(a['state_holiday'], a['state_holiday'])\n",
    "a2 = cramer_v(a['state_holiday'], a['store_type'])\n",
    "a3 = cramer_v(a['state_holiday'], a['assortment'])\n",
    "\n",
    "a4 = cramer_v(a['store_type'], a['state_holiday'])\n",
    "a5 = cramer_v(a['store_type'], a['store_type'])\n",
    "a6 = cramer_v(a['store_type'], a['assortment'])\n",
    "\n",
    "a7 = cramer_v(a['assortment'], a['state_holiday'])\n",
    "a8 = cramer_v(a['assortment'], a['store_type'])\n",
    "a9 = cramer_v(a['assortment'], a['assortment'])\n",
    "\n",
    "d = pd.DataFrame( {'state_holiday': [a1, a2, a3],\n",
    "               'store_type': [a4, a5, a6],\n",
    "               'assortment': [a7, a8, a9]})\n",
    "\n",
    "d = d.set_index( d. columns )"
   ]
  },
  {
   "cell_type": "code",
   "execution_count": 54,
   "id": "8d45efb6",
   "metadata": {
    "ExecuteTime": {
     "end_time": "2022-02-08T01:11:49.174080Z",
     "start_time": "2022-02-08T01:11:49.040085Z"
    },
    "hidden": true
   },
   "outputs": [
    {
     "data": {
      "text/plain": [
       "<AxesSubplot:>"
      ]
     },
     "execution_count": 54,
     "metadata": {},
     "output_type": "execute_result"
    },
    {
     "data": {
      "image/png": "[encoded data removed]",
      "text/plain": [
       "<Figure size 432x288 with 2 Axes>"
      ]
     },
     "metadata": {
      "needs_background": "light"
     },
     "output_type": "display_data"
    }
   ],
   "source": [
    "sns.heatmap( d, annot=True )"
   ]
  },
  {
   "cell_type": "code",
   "execution_count": 55,
   "id": "4a3a7103",
   "metadata": {
    "ExecuteTime": {
     "end_time": "2022-02-08T01:11:49.185111Z",
     "start_time": "2022-02-08T01:11:49.176673Z"
    },
    "hidden": true
   },
   "outputs": [
    {
     "data": {
      "text/html": [
       "<div>\n",
       "<style scoped>\n",
       "    .dataframe tbody tr th:only-of-type {\n",
       "        vertical-align: middle;\n",
       "    }\n",
       "\n",
       "    .dataframe tbody tr th {\n",
       "        vertical-align: top;\n",
       "    }\n",
       "\n",
       "    .dataframe thead th {\n",
       "        text-align: right;\n",
       "    }\n",
       "</style>\n",
       "<table border=\"1\" class=\"dataframe\">\n",
       "  <thead>\n",
       "    <tr style=\"text-align: right;\">\n",
       "      <th></th>\n",
       "      <th>state_holiday</th>\n",
       "      <th>store_type</th>\n",
       "      <th>assortment</th>\n",
       "    </tr>\n",
       "  </thead>\n",
       "  <tbody>\n",
       "    <tr>\n",
       "      <th>state_holiday</th>\n",
       "      <td>1.000002</td>\n",
       "      <td>0.071065</td>\n",
       "      <td>0.067546</td>\n",
       "    </tr>\n",
       "    <tr>\n",
       "      <th>store_type</th>\n",
       "      <td>0.071065</td>\n",
       "      <td>1.000002</td>\n",
       "      <td>0.538457</td>\n",
       "    </tr>\n",
       "    <tr>\n",
       "      <th>assortment</th>\n",
       "      <td>0.067546</td>\n",
       "      <td>0.538457</td>\n",
       "      <td>1.000001</td>\n",
       "    </tr>\n",
       "  </tbody>\n",
       "</table>\n",
       "</div>"
      ],
      "text/plain": [
       "               state_holiday  store_type  assortment\n",
       "state_holiday       1.000002    0.071065    0.067546\n",
       "store_type          0.071065    1.000002    0.538457\n",
       "assortment          0.067546    0.538457    1.000001"
      ]
     },
     "execution_count": 55,
     "metadata": {},
     "output_type": "execute_result"
    }
   ],
   "source": [
    "d"
   ]
  },
  {
   "cell_type": "markdown",
   "id": "caf7b915",
   "metadata": {
    "heading_collapsed": true
   },
   "source": [
    "# Passo 05 - DATA PREPARATION"
   ]
  },
  {
   "cell_type": "code",
   "execution_count": 56,
   "id": "54e55261",
   "metadata": {
    "ExecuteTime": {
     "end_time": "2022-02-08T01:11:49.241326Z",
     "start_time": "2022-02-08T01:11:49.186866Z"
    },
    "hidden": true
   },
   "outputs": [],
   "source": [
    "df5 = df4.copy()"
   ]
  },
  {
   "cell_type": "markdown",
   "id": "926beb9a",
   "metadata": {
    "hidden": true
   },
   "source": [
    "## Normalização"
   ]
  },
  {
   "cell_type": "code",
   "execution_count": 57,
   "id": "32d7c251",
   "metadata": {
    "ExecuteTime": {
     "end_time": "2022-02-08T01:11:49.245653Z",
     "start_time": "2022-02-08T01:11:49.243090Z"
    },
    "hidden": true
   },
   "outputs": [],
   "source": [
    "# Not normalize, because every numerical variable seen in the step univariate analysis seens not to be normal"
   ]
  },
  {
   "cell_type": "markdown",
   "id": "89f63def",
   "metadata": {
    "hidden": true
   },
   "source": [
    "## Rescaling"
   ]
  },
  {
   "cell_type": "code",
   "execution_count": 58,
   "id": "d7be3f00",
   "metadata": {
    "ExecuteTime": {
     "end_time": "2022-02-08T01:11:49.427017Z",
     "start_time": "2022-02-08T01:11:49.247744Z"
    },
    "hidden": true
   },
   "outputs": [],
   "source": [
    "rs = RobustScaler()\n",
    "mms = MinMaxScaler()\n",
    "\n",
    "# competition distance - robust\n",
    "df5['competition_distance'] = rs.fit_transform( df5[['competition_distance']].values)\n",
    "\n",
    "# competition time month\n",
    "df5['competition_time_month'] = rs.fit_transform( df5[['competition_time_month']].values)\n",
    "\n",
    "# promo time week \n",
    "df5['promo_time_week'] = mms.fit_transform( df5[['promo_time_week']].values)\n",
    "\n",
    "# year - min max\n",
    "df5['year'] = mms.fit_transform( df5[['year']].values)"
   ]
  },
  {
   "cell_type": "markdown",
   "id": "c60b7c7f",
   "metadata": {
    "hidden": true
   },
   "source": [
    "## Transformation"
   ]
  },
  {
   "cell_type": "markdown",
   "id": "27b63617",
   "metadata": {
    "hidden": true
   },
   "source": [
    "### Encoding"
   ]
  },
  {
   "cell_type": "code",
   "execution_count": 59,
   "id": "1bf146b1",
   "metadata": {
    "ExecuteTime": {
     "end_time": "2022-02-08T01:11:49.822317Z",
     "start_time": "2022-02-08T01:11:49.429072Z"
    },
    "hidden": true
   },
   "outputs": [],
   "source": [
    "# state_holiday - One Hot Encoding\n",
    "df5 = pd.get_dummies( df5, prefix=['state_holiday'], columns=['state_holiday'])\n",
    "\n",
    "# store_type - Label Encoding\n",
    "le = LabelEncoder()\n",
    "df5['store_type'] = le.fit_transform( df5['store_type'] )\n",
    "\n",
    "# assortment - Ordinal Encoding\n",
    "assortment_dict = {'basic': 1, 'extra': 2, 'extended': 3}\n",
    "\n",
    "df5['assortment'] = df5['assortment'].map( assortment_dict )"
   ]
  },
  {
   "cell_type": "markdown",
   "id": "b51d52bb",
   "metadata": {
    "ExecuteTime": {
     "end_time": "2022-02-06T21:52:35.590834Z",
     "start_time": "2022-02-06T21:52:35.587833Z"
    },
    "hidden": true
   },
   "source": [
    "### Response Variable Transformation"
   ]
  },
  {
   "cell_type": "code",
   "execution_count": 60,
   "id": "897f0944",
   "metadata": {
    "ExecuteTime": {
     "end_time": "2022-02-08T01:11:49.851850Z",
     "start_time": "2022-02-08T01:11:49.823926Z"
    },
    "hidden": true
   },
   "outputs": [],
   "source": [
    "df5['sales'] = np.log1p( df5['sales'] )"
   ]
  },
  {
   "cell_type": "code",
   "execution_count": 61,
   "id": "234b8b70",
   "metadata": {
    "ExecuteTime": {
     "end_time": "2022-02-08T01:11:52.471867Z",
     "start_time": "2022-02-08T01:11:49.853539Z"
    },
    "hidden": true
   },
   "outputs": [
    {
     "name": "stderr",
     "output_type": "stream",
     "text": [
      "/home/lucas/.pyenv/versions/3.8.0/envs/datascienceemproducao/lib/python3.8/site-packages/seaborn/distributions.py:2619: FutureWarning: `distplot` is a deprecated function and will be removed in a future version. Please adapt your code to use either `displot` (a figure-level function with similar flexibility) or `histplot` (an axes-level function for histograms).\n",
      "  warnings.warn(msg, FutureWarning)\n"
     ]
    },
    {
     "data": {
      "text/plain": [
       "<AxesSubplot:xlabel='sales', ylabel='Density'>"
      ]
     },
     "execution_count": 61,
     "metadata": {},
     "output_type": "execute_result"
    },
    {
     "data": {
      "image/png": "[encoded data removed]",
      "text/plain": [
       "<Figure size 432x288 with 1 Axes>"
      ]
     },
     "metadata": {
      "needs_background": "light"
     },
     "output_type": "display_data"
    }
   ],
   "source": [
    "sns.distplot( df5['sales'] )"
   ]
  },
  {
   "cell_type": "markdown",
   "id": "cd30b9e4",
   "metadata": {
    "hidden": true
   },
   "source": [
    "### Nature Transformation"
   ]
  },
  {
   "cell_type": "code",
   "execution_count": 62,
   "id": "48d6b03b",
   "metadata": {
    "ExecuteTime": {
     "end_time": "2022-02-08T01:11:58.915377Z",
     "start_time": "2022-02-08T01:11:52.473130Z"
    },
    "hidden": true
   },
   "outputs": [],
   "source": [
    "# month\n",
    "df5['month_sin'] = df5['month'].apply( lambda x: np.sin( x * (2. * np.pi / 12) ) )\n",
    "df5['month_cos'] = df5['month'].apply( lambda x: np.cos( x * (2. * np.pi / 12) ) )\n",
    "\n",
    "# day\n",
    "df5['day_sin'] = df5['day'].apply( lambda x: np.sin( x * (2. * np.pi / 30) ) )\n",
    "df5['day_cos'] = df5['day'].apply( lambda x: np.cos( x * (2. * np.pi / 30) ) )\n",
    "\n",
    "# week of year\n",
    "df5['week_of_year_sin'] = df5['week_of_year'].apply( lambda x: np.sin( x * (2. * np.pi / 52) ) )\n",
    "df5['week_of_year_cos'] = df5['week_of_year'].apply( lambda x: np.cos( x * (2. * np.pi / 52) ) )\n",
    "\n",
    "# day of week\n",
    "df5['day_of_week_sin'] = df5['day_of_week'].apply( lambda x: np.sin( x * (2. * np.pi / 7) ) )\n",
    "df5['day_of_week_cos'] = df5['day_of_week'].apply( lambda x: np.cos( x * (2. * np.pi / 7) ) )"
   ]
  },
  {
   "cell_type": "markdown",
   "id": "bbc550b3",
   "metadata": {},
   "source": [
    "# Passo 06 - FEATURE SELECTION"
   ]
  },
  {
   "cell_type": "code",
   "execution_count": 63,
   "id": "3da4cf9a",
   "metadata": {
    "ExecuteTime": {
     "end_time": "2022-02-08T01:11:59.053859Z",
     "start_time": "2022-02-08T01:11:58.916692Z"
    }
   },
   "outputs": [],
   "source": [
    "df6 = df5.copy()"
   ]
  },
  {
   "cell_type": "markdown",
   "id": "0c653bfd",
   "metadata": {
    "heading_collapsed": true
   },
   "source": [
    "## Split dataframe into training and test dataset"
   ]
  },
  {
   "cell_type": "code",
   "execution_count": 64,
   "id": "c155ca94",
   "metadata": {
    "ExecuteTime": {
     "end_time": "2022-02-08T01:11:59.107003Z",
     "start_time": "2022-02-08T01:11:59.055496Z"
    },
    "hidden": true
   },
   "outputs": [],
   "source": [
    "cols_drop = ['week_of_year', 'day', 'month', 'day_of_week', 'promo_since', 'competition_since', 'year_week']\n",
    "df6 = df6.drop( cols_drop, axis = 1)"
   ]
  },
  {
   "cell_type": "code",
   "execution_count": 65,
   "id": "4a9e602d",
   "metadata": {
    "ExecuteTime": {
     "end_time": "2022-02-08T01:11:59.140440Z",
     "start_time": "2022-02-08T01:11:59.116583Z"
    },
    "hidden": true
   },
   "outputs": [
    {
     "data": {
      "text/plain": [
       "Timestamp('2015-06-19 00:00:00')"
      ]
     },
     "execution_count": 65,
     "metadata": {},
     "output_type": "execute_result"
    }
   ],
   "source": [
    "df6[['store', 'date']].groupby( 'store' ).max().reset_index()['date'][0] - datetime.timedelta(days=6*7)"
   ]
  },
  {
   "cell_type": "code",
   "execution_count": 66,
   "id": "fad58648",
   "metadata": {
    "ExecuteTime": {
     "end_time": "2022-02-08T01:11:59.241017Z",
     "start_time": "2022-02-08T01:11:59.141846Z"
    },
    "hidden": true
   },
   "outputs": [
    {
     "name": "stdout",
     "output_type": "stream",
     "text": [
      "Training Min Date: 2013-01-01 00:00:00\n",
      "Training Max Date: 2015-06-18 00:00:00\n",
      "\n",
      "Test Min Date: 2015-06-19 00:00:00\n",
      "Test Max Date: 2015-07-31 00:00:00\n"
     ]
    }
   ],
   "source": [
    "# Training dataset\n",
    "X_train = df6[df6['date'] < '2015-06-19']\n",
    "y_train = X_train['sales']\n",
    "\n",
    "# Training dataset\n",
    "X_test = df6[df6['date'] >= '2015-06-19']\n",
    "y_test = X_test['sales']\n",
    "\n",
    "print( 'Training Min Date: {}'.format( X_train['date'].min( ) ) )\n",
    "print( 'Training Max Date: {}'.format( X_train['date'].max( ) ) )\n",
    "\n",
    "print( '\\nTest Min Date: {}'.format( X_test['date'].min( ) ) )\n",
    "print( 'Test Max Date: {}'.format( X_test['date'].max( ) ) )"
   ]
  },
  {
   "cell_type": "markdown",
   "id": "ec700c4d",
   "metadata": {
    "heading_collapsed": true
   },
   "source": [
    "## Boruta as Feature Selector"
   ]
  },
  {
   "cell_type": "code",
   "execution_count": 67,
   "id": "d173a41e",
   "metadata": {
    "ExecuteTime": {
     "end_time": "2022-02-08T01:11:59.245610Z",
     "start_time": "2022-02-08T01:11:59.242793Z"
    },
    "hidden": true
   },
   "outputs": [],
   "source": [
    "# # training and test for Boruta\n",
    "# X_train_n = X_train.drop( ['date', 'sales'], axis=1 ).values\n",
    "# y_train_n = y_train.values.ravel()\n",
    "\n",
    "# # define RandomForestRegressor\n",
    "# rf = RandomForestRegressor( n_jobs=-1 )\n",
    "\n",
    "# # define Boruta\n",
    "# boruta = BorutaPy( rf, n_estimators='auto', verbose=2, random_state=42 ).fit( X_train_n, y_train_n)"
   ]
  },
  {
   "cell_type": "markdown",
   "id": "d27707b3",
   "metadata": {
    "hidden": true
   },
   "source": [
    "### Best Features from Boruta"
   ]
  },
  {
   "cell_type": "code",
   "execution_count": 68,
   "id": "1693b0c2",
   "metadata": {
    "ExecuteTime": {
     "end_time": "2022-02-08T01:11:59.254362Z",
     "start_time": "2022-02-08T01:11:59.247632Z"
    },
    "hidden": true
   },
   "outputs": [],
   "source": [
    "# cols_selected = boruta.support_.tolist()\n",
    "\n",
    "# # best features\n",
    "# X_train_fs = X_train.drop( ['date', 'sales'], axis=1)\n",
    "# cols_selected_boruta = X_train_fs.iloc[:, cols_selected].columns.to_list()\n",
    "\n",
    "# # not selected boruta\n",
    "# cols_not_selected_boruta = list(np.setdiff1d( X_train_fs.columns, cols_selected_boruta ))"
   ]
  },
  {
   "cell_type": "markdown",
   "id": "19255c61",
   "metadata": {},
   "source": [
    "## Manual Feature Selection"
   ]
  },
  {
   "cell_type": "code",
   "execution_count": 92,
   "id": "351eae4e",
   "metadata": {
    "ExecuteTime": {
     "end_time": "2022-02-08T01:46:07.660313Z",
     "start_time": "2022-02-08T01:46:07.648504Z"
    }
   },
   "outputs": [],
   "source": [
    "cols_selected_boruta = [\n",
    "    'store',\n",
    "    'promo',\n",
    "    'store_type',\n",
    "    'assortment',\n",
    "    'competition_distance',\n",
    "    'competition_open_since_month',\n",
    "    'competition_open_since_year',\n",
    "    'promo2',\n",
    "    'promo2_since_week',\n",
    "    'promo2_since_year',\n",
    "    'competition_time_month',\n",
    "    'promo_time_week',\n",
    "    'month_sin',\n",
    "    'month_cos',\n",
    "    'day_sin',\n",
    "    'day_cos',\n",
    "    'week_of_year_sin',\n",
    "    'week_of_year_cos',\n",
    "    'day_of_week_sin',\n",
    "    'day_of_week_cos']\n",
    "\n",
    "# columns to add\n",
    "feat_to_add = ['date', 'sales']\n",
    "\n",
    "cols_selected_boruta_full = cols_selected_boruta.copy()\n",
    "cols_selected_boruta_full.extend( feat_to_add )"
   ]
  },
  {
   "cell_type": "markdown",
   "id": "6ca1ddf0",
   "metadata": {},
   "source": [
    "# Passo 7 - Machine Learning Modelling"
   ]
  },
  {
   "cell_type": "code",
   "execution_count": 70,
   "id": "b7ac01e4",
   "metadata": {
    "ExecuteTime": {
     "end_time": "2022-02-08T01:11:59.303008Z",
     "start_time": "2022-02-08T01:11:59.263728Z"
    }
   },
   "outputs": [],
   "source": [
    "x_train = X_train[ cols_selected_boruta ]\n",
    "x_test = X_test[ cols_selected_boruta ]"
   ]
  },
  {
   "cell_type": "markdown",
   "id": "4c64fa5a",
   "metadata": {
    "heading_collapsed": true
   },
   "source": [
    "## Average Model"
   ]
  },
  {
   "cell_type": "code",
   "execution_count": 71,
   "id": "84d5a0de",
   "metadata": {
    "ExecuteTime": {
     "end_time": "2022-02-08T01:11:59.472253Z",
     "start_time": "2022-02-08T01:11:59.304853Z"
    },
    "hidden": true
   },
   "outputs": [
    {
     "data": {
      "text/html": [
       "<div>\n",
       "<style scoped>\n",
       "    .dataframe tbody tr th:only-of-type {\n",
       "        vertical-align: middle;\n",
       "    }\n",
       "\n",
       "    .dataframe tbody tr th {\n",
       "        vertical-align: top;\n",
       "    }\n",
       "\n",
       "    .dataframe thead th {\n",
       "        text-align: right;\n",
       "    }\n",
       "</style>\n",
       "<table border=\"1\" class=\"dataframe\">\n",
       "  <thead>\n",
       "    <tr style=\"text-align: right;\">\n",
       "      <th></th>\n",
       "      <th>Model Name</th>\n",
       "      <th>MAE</th>\n",
       "      <th>MAPE</th>\n",
       "      <th>RMSE</th>\n",
       "    </tr>\n",
       "  </thead>\n",
       "  <tbody>\n",
       "    <tr>\n",
       "      <th>0</th>\n",
       "      <td>Average Model</td>\n",
       "      <td>1429.763326</td>\n",
       "      <td>0.44785</td>\n",
       "      <td>1939.32873</td>\n",
       "    </tr>\n",
       "  </tbody>\n",
       "</table>\n",
       "</div>"
      ],
      "text/plain": [
       "      Model Name          MAE     MAPE        RMSE\n",
       "0  Average Model  1429.763326  0.44785  1939.32873"
      ]
     },
     "execution_count": 71,
     "metadata": {},
     "output_type": "execute_result"
    }
   ],
   "source": [
    "aux1_test = x_test.copy()\n",
    "aux1_test['sales'] = y_test.copy()\n",
    "\n",
    "aux1_train = x_train.copy()\n",
    "aux1_train['sales'] = y_train.copy()\n",
    "\n",
    "# prediction\n",
    "aux2 = aux1_train[['store', 'sales']].groupby( 'store' ).mean().reset_index().rename( columns = {'sales': 'predictions'})\n",
    "aux1 = pd.merge( aux1_test, aux2, how='left', on='store' )\n",
    "yhat_baseline = aux1['predictions']\n",
    "\n",
    "# performance\n",
    "baseline_result = ml_error( 'Average Model', np.expm1( y_test), np.expm1(yhat_baseline) )\n",
    "baseline_result"
   ]
  },
  {
   "cell_type": "code",
   "execution_count": 72,
   "id": "b9d9ff34",
   "metadata": {
    "ExecuteTime": {
     "end_time": "2022-02-08T01:11:59.508377Z",
     "start_time": "2022-02-08T01:11:59.474081Z"
    },
    "hidden": true
   },
   "outputs": [
    {
     "data": {
      "text/html": [
       "<div>\n",
       "<style scoped>\n",
       "    .dataframe tbody tr th:only-of-type {\n",
       "        vertical-align: middle;\n",
       "    }\n",
       "\n",
       "    .dataframe tbody tr th {\n",
       "        vertical-align: top;\n",
       "    }\n",
       "\n",
       "    .dataframe thead th {\n",
       "        text-align: right;\n",
       "    }\n",
       "</style>\n",
       "<table border=\"1\" class=\"dataframe\">\n",
       "  <thead>\n",
       "    <tr style=\"text-align: right;\">\n",
       "      <th></th>\n",
       "      <th>Model Name</th>\n",
       "      <th>MAE</th>\n",
       "      <th>MAPE</th>\n",
       "      <th>RMSE</th>\n",
       "    </tr>\n",
       "  </thead>\n",
       "  <tbody>\n",
       "    <tr>\n",
       "      <th>0</th>\n",
       "      <td>Average Model</td>\n",
       "      <td>1354.800353</td>\n",
       "      <td>0.455051</td>\n",
       "      <td>1835.135542</td>\n",
       "    </tr>\n",
       "  </tbody>\n",
       "</table>\n",
       "</div>"
      ],
      "text/plain": [
       "      Model Name          MAE      MAPE         RMSE\n",
       "0  Average Model  1354.800353  0.455051  1835.135542"
      ]
     },
     "execution_count": 72,
     "metadata": {},
     "output_type": "execute_result"
    }
   ],
   "source": [
    "aux1 = x_test.copy()\n",
    "aux1['sales'] = y_test.copy()\n",
    "\n",
    "# prediction\n",
    "aux2 = aux1[['store', 'sales']].groupby( 'store' ).mean().reset_index().rename( columns = {'sales': 'predictions'})\n",
    "aux1 = pd.merge( aux1, aux2, how='left', on='store' )\n",
    "yhat_baseline = aux1['predictions']\n",
    "\n",
    "# performance\n",
    "baseline_result = ml_error( 'Average Model', np.expm1( y_test), np.expm1(yhat_baseline) )\n",
    "baseline_result"
   ]
  },
  {
   "cell_type": "markdown",
   "id": "ee423026",
   "metadata": {
    "heading_collapsed": true
   },
   "source": [
    "## Linear Regression Model"
   ]
  },
  {
   "cell_type": "code",
   "execution_count": 73,
   "id": "1b85793d",
   "metadata": {
    "ExecuteTime": {
     "end_time": "2022-02-08T01:12:00.133548Z",
     "start_time": "2022-02-08T01:11:59.510276Z"
    },
    "hidden": true
   },
   "outputs": [
    {
     "data": {
      "text/html": [
       "<div>\n",
       "<style scoped>\n",
       "    .dataframe tbody tr th:only-of-type {\n",
       "        vertical-align: middle;\n",
       "    }\n",
       "\n",
       "    .dataframe tbody tr th {\n",
       "        vertical-align: top;\n",
       "    }\n",
       "\n",
       "    .dataframe thead th {\n",
       "        text-align: right;\n",
       "    }\n",
       "</style>\n",
       "<table border=\"1\" class=\"dataframe\">\n",
       "  <thead>\n",
       "    <tr style=\"text-align: right;\">\n",
       "      <th></th>\n",
       "      <th>Model Name</th>\n",
       "      <th>MAE</th>\n",
       "      <th>MAPE</th>\n",
       "      <th>RMSE</th>\n",
       "    </tr>\n",
       "  </thead>\n",
       "  <tbody>\n",
       "    <tr>\n",
       "      <th>0</th>\n",
       "      <td>Linear Regression</td>\n",
       "      <td>1867.089774</td>\n",
       "      <td>0.292694</td>\n",
       "      <td>2671.049215</td>\n",
       "    </tr>\n",
       "  </tbody>\n",
       "</table>\n",
       "</div>"
      ],
      "text/plain": [
       "          Model Name          MAE      MAPE         RMSE\n",
       "0  Linear Regression  1867.089774  0.292694  2671.049215"
      ]
     },
     "execution_count": 73,
     "metadata": {},
     "output_type": "execute_result"
    }
   ],
   "source": [
    "# model\n",
    "lr = LinearRegression().fit( x_train, y_train )\n",
    "\n",
    "# prediction\n",
    "yhat_lr = lr.predict( x_test )\n",
    "\n",
    "# performance\n",
    "lr_result = ml_error( 'Linear Regression', np.expm1( y_test ), np.expm1(yhat_lr) )\n",
    "lr_result"
   ]
  },
  {
   "cell_type": "markdown",
   "id": "3691d058",
   "metadata": {
    "heading_collapsed": true
   },
   "source": [
    "## Linear Regression Regularized Model"
   ]
  },
  {
   "cell_type": "code",
   "execution_count": 74,
   "id": "e3088afa",
   "metadata": {
    "ExecuteTime": {
     "end_time": "2022-02-08T01:12:00.841498Z",
     "start_time": "2022-02-08T01:12:00.136381Z"
    },
    "hidden": true
   },
   "outputs": [
    {
     "data": {
      "text/html": [
       "<div>\n",
       "<style scoped>\n",
       "    .dataframe tbody tr th:only-of-type {\n",
       "        vertical-align: middle;\n",
       "    }\n",
       "\n",
       "    .dataframe tbody tr th {\n",
       "        vertical-align: top;\n",
       "    }\n",
       "\n",
       "    .dataframe thead th {\n",
       "        text-align: right;\n",
       "    }\n",
       "</style>\n",
       "<table border=\"1\" class=\"dataframe\">\n",
       "  <thead>\n",
       "    <tr style=\"text-align: right;\">\n",
       "      <th></th>\n",
       "      <th>Model Name</th>\n",
       "      <th>MAE</th>\n",
       "      <th>MAPE</th>\n",
       "      <th>RMSE</th>\n",
       "    </tr>\n",
       "  </thead>\n",
       "  <tbody>\n",
       "    <tr>\n",
       "      <th>0</th>\n",
       "      <td>Linear Regression - Lasso</td>\n",
       "      <td>1891.70488</td>\n",
       "      <td>0.289106</td>\n",
       "      <td>2744.451735</td>\n",
       "    </tr>\n",
       "  </tbody>\n",
       "</table>\n",
       "</div>"
      ],
      "text/plain": [
       "                  Model Name         MAE      MAPE         RMSE\n",
       "0  Linear Regression - Lasso  1891.70488  0.289106  2744.451735"
      ]
     },
     "execution_count": 74,
     "metadata": {},
     "output_type": "execute_result"
    }
   ],
   "source": [
    "# model\n",
    "lrr = Lasso( alpha=0.01 ).fit( x_train, y_train )\n",
    "\n",
    "# prediction\n",
    "yhat_lrr = lrr.predict( x_test )\n",
    "\n",
    "# performance\n",
    "lrr_result = ml_error( 'Linear Regression - Lasso', np.expm1( y_test ), np.expm1(yhat_lrr) )\n",
    "lrr_result"
   ]
  },
  {
   "cell_type": "markdown",
   "id": "ad7be85d",
   "metadata": {
    "heading_collapsed": true
   },
   "source": [
    "## Random Forest Regressor"
   ]
  },
  {
   "cell_type": "code",
   "execution_count": 75,
   "id": "f3ea389c",
   "metadata": {
    "ExecuteTime": {
     "end_time": "2022-02-08T01:12:00.848669Z",
     "start_time": "2022-02-08T01:12:00.845115Z"
    },
    "hidden": true
   },
   "outputs": [],
   "source": []
  },
  {
   "cell_type": "code",
   "execution_count": 76,
   "id": "b9d1c2b1",
   "metadata": {
    "ExecuteTime": {
     "end_time": "2022-02-08T01:15:17.133100Z",
     "start_time": "2022-02-08T01:12:00.851710Z"
    },
    "hidden": true
   },
   "outputs": [
    {
     "data": {
      "text/html": [
       "<div>\n",
       "<style scoped>\n",
       "    .dataframe tbody tr th:only-of-type {\n",
       "        vertical-align: middle;\n",
       "    }\n",
       "\n",
       "    .dataframe tbody tr th {\n",
       "        vertical-align: top;\n",
       "    }\n",
       "\n",
       "    .dataframe thead th {\n",
       "        text-align: right;\n",
       "    }\n",
       "</style>\n",
       "<table border=\"1\" class=\"dataframe\">\n",
       "  <thead>\n",
       "    <tr style=\"text-align: right;\">\n",
       "      <th></th>\n",
       "      <th>Model Name</th>\n",
       "      <th>MAE</th>\n",
       "      <th>MAPE</th>\n",
       "      <th>RMSE</th>\n",
       "    </tr>\n",
       "  </thead>\n",
       "  <tbody>\n",
       "    <tr>\n",
       "      <th>0</th>\n",
       "      <td>Linear Regression - Lasso</td>\n",
       "      <td>679.098387</td>\n",
       "      <td>0.099882</td>\n",
       "      <td>1009.869873</td>\n",
       "    </tr>\n",
       "  </tbody>\n",
       "</table>\n",
       "</div>"
      ],
      "text/plain": [
       "                  Model Name         MAE      MAPE         RMSE\n",
       "0  Linear Regression - Lasso  679.098387  0.099882  1009.869873"
      ]
     },
     "execution_count": 76,
     "metadata": {},
     "output_type": "execute_result"
    }
   ],
   "source": [
    "# model\n",
    "rf = RandomForestRegressor( n_estimators=100, n_jobs=-1, random_state=42 ).fit( x_train, y_train )\n",
    "\n",
    "# prediction\n",
    "yhat_rf = rf.predict( x_test )\n",
    "\n",
    "# performance\n",
    "rf_result = ml_error( 'Random Forest Regressor', np.expm1(y_test), np.expm1( yhat_rf) )\n",
    "rf_result"
   ]
  },
  {
   "cell_type": "markdown",
   "id": "f83e1294",
   "metadata": {
    "heading_collapsed": true
   },
   "source": [
    "## XGBoost Regressor"
   ]
  },
  {
   "cell_type": "code",
   "execution_count": 89,
   "id": "6499511e",
   "metadata": {
    "ExecuteTime": {
     "end_time": "2022-02-08T01:31:24.062417Z",
     "start_time": "2022-02-08T01:30:09.603108Z"
    },
    "hidden": true
   },
   "outputs": [
    {
     "name": "stderr",
     "output_type": "stream",
     "text": [
      "/home/lucas/.pyenv/versions/3.8.0/envs/datascienceemproducao/lib/python3.8/site-packages/xgboost/data.py:262: FutureWarning: pandas.Int64Index is deprecated and will be removed from pandas in a future version. Use pandas.Index with the appropriate dtype instead.\n",
      "  elif isinstance(data.columns, (pd.Int64Index, pd.RangeIndex)):\n"
     ]
    },
    {
     "name": "stdout",
     "output_type": "stream",
     "text": [
      "[22:30:09] WARNING: ../src/learner.cc:576: \n",
      "Parameters: { \"colsample_bytee\" } might not be used.\n",
      "\n",
      "  This could be a false alarm, with some parameters getting used by language bindings but\n",
      "  then being mistakenly passed down to XGBoost core, or some parameter actually being used\n",
      "  but getting flagged wrongly here. Please open an issue if you find any such cases.\n",
      "\n",
      "\n"
     ]
    },
    {
     "data": {
      "text/html": [
       "<div>\n",
       "<style scoped>\n",
       "    .dataframe tbody tr th:only-of-type {\n",
       "        vertical-align: middle;\n",
       "    }\n",
       "\n",
       "    .dataframe tbody tr th {\n",
       "        vertical-align: top;\n",
       "    }\n",
       "\n",
       "    .dataframe thead th {\n",
       "        text-align: right;\n",
       "    }\n",
       "</style>\n",
       "<table border=\"1\" class=\"dataframe\">\n",
       "  <thead>\n",
       "    <tr style=\"text-align: right;\">\n",
       "      <th></th>\n",
       "      <th>Model Name</th>\n",
       "      <th>MAE</th>\n",
       "      <th>MAPE</th>\n",
       "      <th>RMSE</th>\n",
       "    </tr>\n",
       "  </thead>\n",
       "  <tbody>\n",
       "    <tr>\n",
       "      <th>0</th>\n",
       "      <td>XGBoost Regressor</td>\n",
       "      <td>6683.602213</td>\n",
       "      <td>0.949501</td>\n",
       "      <td>7330.746126</td>\n",
       "    </tr>\n",
       "  </tbody>\n",
       "</table>\n",
       "</div>"
      ],
      "text/plain": [
       "          Model Name          MAE      MAPE         RMSE\n",
       "0  XGBoost Regressor  6683.602213  0.949501  7330.746126"
      ]
     },
     "execution_count": 89,
     "metadata": {},
     "output_type": "execute_result"
    }
   ],
   "source": [
    "# model\n",
    "model_xgb = xgb.XGBRegressor( objective='reg:squarederror',\n",
    "n_estimators=100,\n",
    "eta=0.01,\n",
    "max_depth=10,\n",
    "subsample=0.7,\n",
    "colsample_bytee=0.9 ).fit( x_train, y_train )\n",
    "\n",
    "# prediction\n",
    "yhat_xgb = model_xgb.predict( x_test )\n",
    "\n",
    "# performance\n",
    "xgb_result = ml_error( 'XGBoost Regressor', np.expm1( y_test ), np.expm1( yhat_xgb ) )\n",
    "xgb_result"
   ]
  },
  {
   "cell_type": "markdown",
   "id": "e76dc56f",
   "metadata": {},
   "source": [
    "## Compare Model's Performance"
   ]
  },
  {
   "cell_type": "code",
   "execution_count": 90,
   "id": "241859c4",
   "metadata": {
    "ExecuteTime": {
     "end_time": "2022-02-08T01:31:30.078849Z",
     "start_time": "2022-02-08T01:31:30.053162Z"
    }
   },
   "outputs": [
    {
     "data": {
      "text/html": [
       "<div>\n",
       "<style scoped>\n",
       "    .dataframe tbody tr th:only-of-type {\n",
       "        vertical-align: middle;\n",
       "    }\n",
       "\n",
       "    .dataframe tbody tr th {\n",
       "        vertical-align: top;\n",
       "    }\n",
       "\n",
       "    .dataframe thead th {\n",
       "        text-align: right;\n",
       "    }\n",
       "</style>\n",
       "<table border=\"1\" class=\"dataframe\">\n",
       "  <thead>\n",
       "    <tr style=\"text-align: right;\">\n",
       "      <th></th>\n",
       "      <th>Model Name</th>\n",
       "      <th>MAE</th>\n",
       "      <th>MAPE</th>\n",
       "      <th>RMSE</th>\n",
       "    </tr>\n",
       "  </thead>\n",
       "  <tbody>\n",
       "    <tr>\n",
       "      <th>0</th>\n",
       "      <td>Linear Regression - Lasso</td>\n",
       "      <td>679.098387</td>\n",
       "      <td>0.099882</td>\n",
       "      <td>1009.869873</td>\n",
       "    </tr>\n",
       "    <tr>\n",
       "      <th>0</th>\n",
       "      <td>Average Model</td>\n",
       "      <td>1354.800353</td>\n",
       "      <td>0.455051</td>\n",
       "      <td>1835.135542</td>\n",
       "    </tr>\n",
       "    <tr>\n",
       "      <th>0</th>\n",
       "      <td>Linear Regression</td>\n",
       "      <td>1867.089774</td>\n",
       "      <td>0.292694</td>\n",
       "      <td>2671.049215</td>\n",
       "    </tr>\n",
       "    <tr>\n",
       "      <th>0</th>\n",
       "      <td>Linear Regression - Lasso</td>\n",
       "      <td>1891.704880</td>\n",
       "      <td>0.289106</td>\n",
       "      <td>2744.451735</td>\n",
       "    </tr>\n",
       "    <tr>\n",
       "      <th>0</th>\n",
       "      <td>XGBoost Regressor</td>\n",
       "      <td>6683.602213</td>\n",
       "      <td>0.949501</td>\n",
       "      <td>7330.746126</td>\n",
       "    </tr>\n",
       "  </tbody>\n",
       "</table>\n",
       "</div>"
      ],
      "text/plain": [
       "                  Model Name          MAE      MAPE         RMSE\n",
       "0  Linear Regression - Lasso   679.098387  0.099882  1009.869873\n",
       "0              Average Model  1354.800353  0.455051  1835.135542\n",
       "0          Linear Regression  1867.089774  0.292694  2671.049215\n",
       "0  Linear Regression - Lasso  1891.704880  0.289106  2744.451735\n",
       "0          XGBoost Regressor  6683.602213  0.949501  7330.746126"
      ]
     },
     "execution_count": 90,
     "metadata": {},
     "output_type": "execute_result"
    }
   ],
   "source": [
    "modelling_result = pd.concat( [baseline_result, lr_result, lrr_result, rf_result, xgb_result] )\n",
    "modelling_result.sort_values( 'RMSE' )"
   ]
  },
  {
   "cell_type": "code",
   "execution_count": 93,
   "id": "6fea74e7",
   "metadata": {
    "ExecuteTime": {
     "end_time": "2022-02-08T01:46:32.934255Z",
     "start_time": "2022-02-08T01:46:32.903961Z"
    }
   },
   "outputs": [],
   "source": [
    "x_training = X_train[ cols_selected_boruta_full ]"
   ]
  },
  {
   "cell_type": "code",
   "execution_count": 136,
   "id": "15d29ba7",
   "metadata": {
    "ExecuteTime": {
     "end_time": "2022-02-08T02:19:33.861457Z",
     "start_time": "2022-02-08T02:19:28.740934Z"
    }
   },
   "outputs": [
    {
     "name": "stdout",
     "output_type": "stream",
     "text": [
      "\n",
      "KFold Number: 5\n",
      "\n",
      "KFold Number: 4\n",
      "\n",
      "KFold Number: 3\n",
      "\n",
      "KFold Number: 2\n",
      "\n",
      "KFold Number: 1\n"
     ]
    }
   ],
   "source": [
    "model = Lasso( alpha=0.01 )\n",
    "a = cross_validation( x_training, 5, 'Lasso', model)"
   ]
  },
  {
   "cell_type": "code",
   "execution_count": null,
   "id": "26f6ecf9",
   "metadata": {},
   "outputs": [],
   "source": []
  }
 ],
 "metadata": {
  "hide_input": false,
  "kernelspec": {
   "display_name": "Python 3 (ipykernel)",
   "language": "python",
   "name": "python3"
  },
  "language_info": {
   "codemirror_mode": {
    "name": "ipython",
    "version": 3
   },
   "file_extension": ".py",
   "mimetype": "text/x-python",
   "name": "python",
   "nbconvert_exporter": "python",
   "pygments_lexer": "ipython3",
   "version": "3.8.0"
  },
  "toc": {
   "base_numbering": 1,
   "nav_menu": {},
   "number_sections": true,
   "sideBar": true,
   "skip_h1_title": false,
   "title_cell": "Table of Contents",
   "title_sidebar": "Contents",
   "toc_cell": false,
   "toc_position": {},
   "toc_section_display": true,
   "toc_window_display": false
  },
  "varInspector": {
   "cols": {
    "lenName": 16,
    "lenType": 16,
    "lenVar": 40
   },
   "kernels_config": {
    "python": {
     "delete_cmd_postfix": "",
     "delete_cmd_prefix": "del ",
     "library": "var_list.py",
     "varRefreshCmd": "print(var_dic_list())"
    },
    "r": {
     "delete_cmd_postfix": ") ",
     "delete_cmd_prefix": "rm(",
     "library": "var_list.r",
     "varRefreshCmd": "cat(var_dic_list()) "
    }
   },
   "types_to_exclude": [
    "module",
    "function",
    "builtin_function_or_method",
    "instance",
    "_Feature"
   ],
   "window_display": false
  }
 },
 "nbformat": 4,
 "nbformat_minor": 5
}
